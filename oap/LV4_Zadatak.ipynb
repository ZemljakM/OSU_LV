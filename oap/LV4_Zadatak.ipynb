{
  "nbformat": 4,
  "nbformat_minor": 0,
  "metadata": {
    "colab": {
      "provenance": []
    },
    "kernelspec": {
      "name": "python3",
      "display_name": "Python 3"
    },
    "language_info": {
      "name": "python"
    }
  },
  "cells": [
    {
      "cell_type": "markdown",
      "source": [
        "# **Laboratorijska vježba 4**: Zadaci za samostalni rad\n",
        "\n",
        "## **Podaci o pacijentima s kardiovaskularnim bolestima**\n",
        "\n",
        "U ovoj laboratorijskoj vježbi istražit ćemo skup podataka koji sadrži informacije o pacijentima s kardiovaskularnim bolestima. Skup podataka sadrži sljedeće značajke:\n",
        "\n",
        "* DEATH_EVENT - je li pacijent preminuo tijekom razdoblja praćenja\n",
        "* sex - muško(1) ili žensko (0)\n",
        "* anaemia - smanjenje crvenih krvnih stanica\n",
        "* smoking\n",
        "* diabetes - boluje li pacijent od dijabetesa\n",
        "* high_blood_pressure - boluje li pacijent od hipertenzije\n",
        "* age - dob pacijenta\n",
        "* creatinine_phosphokinase - razina CPK enzima u krvi\n",
        "* ejection_fraction - postotak krvi koji napušta srce u svakoj kontrakciji\n",
        "* platelets - razina trombocita u krvi \n",
        "* serum_creatinine - razina kreatinina u krvi\n",
        "* serum_sodium - razina serumskog natrija u krvi\n",
        "* time - trajanje razdoblja praćenja (broj dana u bolnici)\n"
      ],
      "metadata": {
        "id": "xKPuwQGia0dg"
      }
    },
    {
      "cell_type": "code",
      "source": [
        "import pandas as pd\n",
        "import pandas as pd\n",
        "import numpy as np\n",
        "import matplotlib.pyplot as plt\n",
        "%matplotlib inline\n",
        "import seaborn as sns\n",
        "import math\n",
        "from statsmodels.stats import diagnostic\n",
        "from scipy import stats\n",
        "import statsmodels.api as sm\n",
        "import statsmodels.formula.api as smf"
      ],
      "metadata": {
        "id": "VN0KC-W-cg9a"
      },
      "execution_count": null,
      "outputs": []
    },
    {
      "cell_type": "code",
      "source": [
        "data_folder = './Data/'\n",
        "df = pd.read_csv(data_folder + 'heart_failure_clinical_records_dataset.csv')\n",
        "df.sample(10)"
      ],
      "metadata": {
        "colab": {
          "base_uri": "https://localhost:8080/",
          "height": 363
        },
        "id": "vcoKogtsciPg",
        "outputId": "ca1cc250-207b-42e3-d558-8c8e97f2364d"
      },
      "execution_count": null,
      "outputs": [
        {
          "output_type": "execute_result",
          "data": {
            "text/plain": [
              "      age  anaemia  creatinine_phosphokinase  diabetes  ejection_fraction  \\\n",
              "214  65.0        1                       135         0                 35   \n",
              "132  46.0        0                       719         0                 40   \n",
              "289  90.0        1                       337         0                 38   \n",
              "58   49.0        0                       789         0                 20   \n",
              "2    65.0        0                       146         0                 20   \n",
              "142  50.0        0                       482         1                 30   \n",
              "81   67.0        0                       582         0                 50   \n",
              "280  70.0        0                      2695         1                 40   \n",
              "294  62.0        0                        61         1                 38   \n",
              "73   65.0        0                       224         1                 50   \n",
              "\n",
              "     high_blood_pressure  platelets  serum_creatinine  serum_sodium  sex  \\\n",
              "214                    1  290000.00              0.80           134    1   \n",
              "132                    1  263358.03              1.18           137    0   \n",
              "289                    0  390000.00              0.90           144    0   \n",
              "58                     1  319000.00              1.10           136    1   \n",
              "2                      0  162000.00              1.30           129    1   \n",
              "142                    0  329000.00              0.90           132    0   \n",
              "81                     0  263358.03              1.18           137    1   \n",
              "280                    0  241000.00              1.00           137    1   \n",
              "294                    1  155000.00              1.10           143    1   \n",
              "73                     0  149000.00              1.30           137    1   \n",
              "\n",
              "     smoking  time  DEATH_EVENT  \n",
              "214        0   194            0  \n",
              "132        0   107            0  \n",
              "289        0   256            0  \n",
              "58         1    55            1  \n",
              "2          1     7            1  \n",
              "142        0   109            0  \n",
              "81         1    76            0  \n",
              "280        0   247            0  \n",
              "294        1   270            0  \n",
              "73         1    72            0  "
            ],
            "text/html": [
              "\n",
              "  <div id=\"df-fabdfde9-de79-44e2-9fb0-5bffd53b8ec9\">\n",
              "    <div class=\"colab-df-container\">\n",
              "      <div>\n",
              "<style scoped>\n",
              "    .dataframe tbody tr th:only-of-type {\n",
              "        vertical-align: middle;\n",
              "    }\n",
              "\n",
              "    .dataframe tbody tr th {\n",
              "        vertical-align: top;\n",
              "    }\n",
              "\n",
              "    .dataframe thead th {\n",
              "        text-align: right;\n",
              "    }\n",
              "</style>\n",
              "<table border=\"1\" class=\"dataframe\">\n",
              "  <thead>\n",
              "    <tr style=\"text-align: right;\">\n",
              "      <th></th>\n",
              "      <th>age</th>\n",
              "      <th>anaemia</th>\n",
              "      <th>creatinine_phosphokinase</th>\n",
              "      <th>diabetes</th>\n",
              "      <th>ejection_fraction</th>\n",
              "      <th>high_blood_pressure</th>\n",
              "      <th>platelets</th>\n",
              "      <th>serum_creatinine</th>\n",
              "      <th>serum_sodium</th>\n",
              "      <th>sex</th>\n",
              "      <th>smoking</th>\n",
              "      <th>time</th>\n",
              "      <th>DEATH_EVENT</th>\n",
              "    </tr>\n",
              "  </thead>\n",
              "  <tbody>\n",
              "    <tr>\n",
              "      <th>214</th>\n",
              "      <td>65.0</td>\n",
              "      <td>1</td>\n",
              "      <td>135</td>\n",
              "      <td>0</td>\n",
              "      <td>35</td>\n",
              "      <td>1</td>\n",
              "      <td>290000.00</td>\n",
              "      <td>0.80</td>\n",
              "      <td>134</td>\n",
              "      <td>1</td>\n",
              "      <td>0</td>\n",
              "      <td>194</td>\n",
              "      <td>0</td>\n",
              "    </tr>\n",
              "    <tr>\n",
              "      <th>132</th>\n",
              "      <td>46.0</td>\n",
              "      <td>0</td>\n",
              "      <td>719</td>\n",
              "      <td>0</td>\n",
              "      <td>40</td>\n",
              "      <td>1</td>\n",
              "      <td>263358.03</td>\n",
              "      <td>1.18</td>\n",
              "      <td>137</td>\n",
              "      <td>0</td>\n",
              "      <td>0</td>\n",
              "      <td>107</td>\n",
              "      <td>0</td>\n",
              "    </tr>\n",
              "    <tr>\n",
              "      <th>289</th>\n",
              "      <td>90.0</td>\n",
              "      <td>1</td>\n",
              "      <td>337</td>\n",
              "      <td>0</td>\n",
              "      <td>38</td>\n",
              "      <td>0</td>\n",
              "      <td>390000.00</td>\n",
              "      <td>0.90</td>\n",
              "      <td>144</td>\n",
              "      <td>0</td>\n",
              "      <td>0</td>\n",
              "      <td>256</td>\n",
              "      <td>0</td>\n",
              "    </tr>\n",
              "    <tr>\n",
              "      <th>58</th>\n",
              "      <td>49.0</td>\n",
              "      <td>0</td>\n",
              "      <td>789</td>\n",
              "      <td>0</td>\n",
              "      <td>20</td>\n",
              "      <td>1</td>\n",
              "      <td>319000.00</td>\n",
              "      <td>1.10</td>\n",
              "      <td>136</td>\n",
              "      <td>1</td>\n",
              "      <td>1</td>\n",
              "      <td>55</td>\n",
              "      <td>1</td>\n",
              "    </tr>\n",
              "    <tr>\n",
              "      <th>2</th>\n",
              "      <td>65.0</td>\n",
              "      <td>0</td>\n",
              "      <td>146</td>\n",
              "      <td>0</td>\n",
              "      <td>20</td>\n",
              "      <td>0</td>\n",
              "      <td>162000.00</td>\n",
              "      <td>1.30</td>\n",
              "      <td>129</td>\n",
              "      <td>1</td>\n",
              "      <td>1</td>\n",
              "      <td>7</td>\n",
              "      <td>1</td>\n",
              "    </tr>\n",
              "    <tr>\n",
              "      <th>142</th>\n",
              "      <td>50.0</td>\n",
              "      <td>0</td>\n",
              "      <td>482</td>\n",
              "      <td>1</td>\n",
              "      <td>30</td>\n",
              "      <td>0</td>\n",
              "      <td>329000.00</td>\n",
              "      <td>0.90</td>\n",
              "      <td>132</td>\n",
              "      <td>0</td>\n",
              "      <td>0</td>\n",
              "      <td>109</td>\n",
              "      <td>0</td>\n",
              "    </tr>\n",
              "    <tr>\n",
              "      <th>81</th>\n",
              "      <td>67.0</td>\n",
              "      <td>0</td>\n",
              "      <td>582</td>\n",
              "      <td>0</td>\n",
              "      <td>50</td>\n",
              "      <td>0</td>\n",
              "      <td>263358.03</td>\n",
              "      <td>1.18</td>\n",
              "      <td>137</td>\n",
              "      <td>1</td>\n",
              "      <td>1</td>\n",
              "      <td>76</td>\n",
              "      <td>0</td>\n",
              "    </tr>\n",
              "    <tr>\n",
              "      <th>280</th>\n",
              "      <td>70.0</td>\n",
              "      <td>0</td>\n",
              "      <td>2695</td>\n",
              "      <td>1</td>\n",
              "      <td>40</td>\n",
              "      <td>0</td>\n",
              "      <td>241000.00</td>\n",
              "      <td>1.00</td>\n",
              "      <td>137</td>\n",
              "      <td>1</td>\n",
              "      <td>0</td>\n",
              "      <td>247</td>\n",
              "      <td>0</td>\n",
              "    </tr>\n",
              "    <tr>\n",
              "      <th>294</th>\n",
              "      <td>62.0</td>\n",
              "      <td>0</td>\n",
              "      <td>61</td>\n",
              "      <td>1</td>\n",
              "      <td>38</td>\n",
              "      <td>1</td>\n",
              "      <td>155000.00</td>\n",
              "      <td>1.10</td>\n",
              "      <td>143</td>\n",
              "      <td>1</td>\n",
              "      <td>1</td>\n",
              "      <td>270</td>\n",
              "      <td>0</td>\n",
              "    </tr>\n",
              "    <tr>\n",
              "      <th>73</th>\n",
              "      <td>65.0</td>\n",
              "      <td>0</td>\n",
              "      <td>224</td>\n",
              "      <td>1</td>\n",
              "      <td>50</td>\n",
              "      <td>0</td>\n",
              "      <td>149000.00</td>\n",
              "      <td>1.30</td>\n",
              "      <td>137</td>\n",
              "      <td>1</td>\n",
              "      <td>1</td>\n",
              "      <td>72</td>\n",
              "      <td>0</td>\n",
              "    </tr>\n",
              "  </tbody>\n",
              "</table>\n",
              "</div>\n",
              "      <button class=\"colab-df-convert\" onclick=\"convertToInteractive('df-fabdfde9-de79-44e2-9fb0-5bffd53b8ec9')\"\n",
              "              title=\"Convert this dataframe to an interactive table.\"\n",
              "              style=\"display:none;\">\n",
              "        \n",
              "  <svg xmlns=\"http://www.w3.org/2000/svg\" height=\"24px\"viewBox=\"0 0 24 24\"\n",
              "       width=\"24px\">\n",
              "    <path d=\"M0 0h24v24H0V0z\" fill=\"none\"/>\n",
              "    <path d=\"M18.56 5.44l.94 2.06.94-2.06 2.06-.94-2.06-.94-.94-2.06-.94 2.06-2.06.94zm-11 1L8.5 8.5l.94-2.06 2.06-.94-2.06-.94L8.5 2.5l-.94 2.06-2.06.94zm10 10l.94 2.06.94-2.06 2.06-.94-2.06-.94-.94-2.06-.94 2.06-2.06.94z\"/><path d=\"M17.41 7.96l-1.37-1.37c-.4-.4-.92-.59-1.43-.59-.52 0-1.04.2-1.43.59L10.3 9.45l-7.72 7.72c-.78.78-.78 2.05 0 2.83L4 21.41c.39.39.9.59 1.41.59.51 0 1.02-.2 1.41-.59l7.78-7.78 2.81-2.81c.8-.78.8-2.07 0-2.86zM5.41 20L4 18.59l7.72-7.72 1.47 1.35L5.41 20z\"/>\n",
              "  </svg>\n",
              "      </button>\n",
              "      \n",
              "  <style>\n",
              "    .colab-df-container {\n",
              "      display:flex;\n",
              "      flex-wrap:wrap;\n",
              "      gap: 12px;\n",
              "    }\n",
              "\n",
              "    .colab-df-convert {\n",
              "      background-color: #E8F0FE;\n",
              "      border: none;\n",
              "      border-radius: 50%;\n",
              "      cursor: pointer;\n",
              "      display: none;\n",
              "      fill: #1967D2;\n",
              "      height: 32px;\n",
              "      padding: 0 0 0 0;\n",
              "      width: 32px;\n",
              "    }\n",
              "\n",
              "    .colab-df-convert:hover {\n",
              "      background-color: #E2EBFA;\n",
              "      box-shadow: 0px 1px 2px rgba(60, 64, 67, 0.3), 0px 1px 3px 1px rgba(60, 64, 67, 0.15);\n",
              "      fill: #174EA6;\n",
              "    }\n",
              "\n",
              "    [theme=dark] .colab-df-convert {\n",
              "      background-color: #3B4455;\n",
              "      fill: #D2E3FC;\n",
              "    }\n",
              "\n",
              "    [theme=dark] .colab-df-convert:hover {\n",
              "      background-color: #434B5C;\n",
              "      box-shadow: 0px 1px 3px 1px rgba(0, 0, 0, 0.15);\n",
              "      filter: drop-shadow(0px 1px 2px rgba(0, 0, 0, 0.3));\n",
              "      fill: #FFFFFF;\n",
              "    }\n",
              "  </style>\n",
              "\n",
              "      <script>\n",
              "        const buttonEl =\n",
              "          document.querySelector('#df-fabdfde9-de79-44e2-9fb0-5bffd53b8ec9 button.colab-df-convert');\n",
              "        buttonEl.style.display =\n",
              "          google.colab.kernel.accessAllowed ? 'block' : 'none';\n",
              "\n",
              "        async function convertToInteractive(key) {\n",
              "          const element = document.querySelector('#df-fabdfde9-de79-44e2-9fb0-5bffd53b8ec9');\n",
              "          const dataTable =\n",
              "            await google.colab.kernel.invokeFunction('convertToInteractive',\n",
              "                                                     [key], {});\n",
              "          if (!dataTable) return;\n",
              "\n",
              "          const docLinkHtml = 'Like what you see? Visit the ' +\n",
              "            '<a target=\"_blank\" href=https://colab.research.google.com/notebooks/data_table.ipynb>data table notebook</a>'\n",
              "            + ' to learn more about interactive tables.';\n",
              "          element.innerHTML = '';\n",
              "          dataTable['output_type'] = 'display_data';\n",
              "          await google.colab.output.renderOutput(dataTable, element);\n",
              "          const docLink = document.createElement('div');\n",
              "          docLink.innerHTML = docLinkHtml;\n",
              "          element.appendChild(docLink);\n",
              "        }\n",
              "      </script>\n",
              "    </div>\n",
              "  </div>\n",
              "  "
            ]
          },
          "metadata": {},
          "execution_count": 2
        }
      ]
    },
    {
      "cell_type": "code",
      "source": [
        "df.corr()"
      ],
      "metadata": {
        "colab": {
          "base_uri": "https://localhost:8080/",
          "height": 457
        },
        "id": "oQiaitsEf8Ov",
        "outputId": "ce590e11-7280-4764-bafd-cb7c93b95131"
      },
      "execution_count": null,
      "outputs": [
        {
          "output_type": "execute_result",
          "data": {
            "text/plain": [
              "                               age   anaemia  creatinine_phosphokinase  \\\n",
              "age                       1.000000  0.088006                 -0.081584   \n",
              "anaemia                   0.088006  1.000000                 -0.190741   \n",
              "creatinine_phosphokinase -0.081584 -0.190741                  1.000000   \n",
              "diabetes                 -0.101012 -0.012729                 -0.009639   \n",
              "ejection_fraction         0.060098  0.031557                 -0.044080   \n",
              "high_blood_pressure       0.093289  0.038182                 -0.070590   \n",
              "platelets                -0.052354 -0.043786                  0.024463   \n",
              "serum_creatinine          0.159187  0.052174                 -0.016408   \n",
              "serum_sodium             -0.045966  0.041882                  0.059550   \n",
              "sex                       0.065430 -0.094769                  0.079791   \n",
              "smoking                   0.018668 -0.107290                  0.002421   \n",
              "time                     -0.224068 -0.141414                 -0.009346   \n",
              "DEATH_EVENT               0.253729  0.066270                  0.062728   \n",
              "\n",
              "                          diabetes  ejection_fraction  high_blood_pressure  \\\n",
              "age                      -0.101012           0.060098             0.093289   \n",
              "anaemia                  -0.012729           0.031557             0.038182   \n",
              "creatinine_phosphokinase -0.009639          -0.044080            -0.070590   \n",
              "diabetes                  1.000000          -0.004850            -0.012732   \n",
              "ejection_fraction        -0.004850           1.000000             0.024445   \n",
              "high_blood_pressure      -0.012732           0.024445             1.000000   \n",
              "platelets                 0.092193           0.072177             0.049963   \n",
              "serum_creatinine         -0.046975          -0.011302            -0.004935   \n",
              "serum_sodium             -0.089551           0.175902             0.037109   \n",
              "sex                      -0.157730          -0.148386            -0.104615   \n",
              "smoking                  -0.147173          -0.067315            -0.055711   \n",
              "time                      0.033726           0.041729            -0.196439   \n",
              "DEATH_EVENT              -0.001943          -0.268603             0.079351   \n",
              "\n",
              "                          platelets  serum_creatinine  serum_sodium       sex  \\\n",
              "age                       -0.052354          0.159187     -0.045966  0.065430   \n",
              "anaemia                   -0.043786          0.052174      0.041882 -0.094769   \n",
              "creatinine_phosphokinase   0.024463         -0.016408      0.059550  0.079791   \n",
              "diabetes                   0.092193         -0.046975     -0.089551 -0.157730   \n",
              "ejection_fraction          0.072177         -0.011302      0.175902 -0.148386   \n",
              "high_blood_pressure        0.049963         -0.004935      0.037109 -0.104615   \n",
              "platelets                  1.000000         -0.041198      0.062125 -0.125120   \n",
              "serum_creatinine          -0.041198          1.000000     -0.189095  0.006970   \n",
              "serum_sodium               0.062125         -0.189095      1.000000 -0.027566   \n",
              "sex                       -0.125120          0.006970     -0.027566  1.000000   \n",
              "smoking                    0.028234         -0.027414      0.004813  0.445892   \n",
              "time                       0.010514         -0.149315      0.087640 -0.015608   \n",
              "DEATH_EVENT               -0.049139          0.294278     -0.195204 -0.004316   \n",
              "\n",
              "                           smoking      time  DEATH_EVENT  \n",
              "age                       0.018668 -0.224068     0.253729  \n",
              "anaemia                  -0.107290 -0.141414     0.066270  \n",
              "creatinine_phosphokinase  0.002421 -0.009346     0.062728  \n",
              "diabetes                 -0.147173  0.033726    -0.001943  \n",
              "ejection_fraction        -0.067315  0.041729    -0.268603  \n",
              "high_blood_pressure      -0.055711 -0.196439     0.079351  \n",
              "platelets                 0.028234  0.010514    -0.049139  \n",
              "serum_creatinine         -0.027414 -0.149315     0.294278  \n",
              "serum_sodium              0.004813  0.087640    -0.195204  \n",
              "sex                       0.445892 -0.015608    -0.004316  \n",
              "smoking                   1.000000 -0.022839    -0.012623  \n",
              "time                     -0.022839  1.000000    -0.526964  \n",
              "DEATH_EVENT              -0.012623 -0.526964     1.000000  "
            ],
            "text/html": [
              "\n",
              "  <div id=\"df-27dbec27-53bc-4cd7-9f9b-fc53b245fb38\">\n",
              "    <div class=\"colab-df-container\">\n",
              "      <div>\n",
              "<style scoped>\n",
              "    .dataframe tbody tr th:only-of-type {\n",
              "        vertical-align: middle;\n",
              "    }\n",
              "\n",
              "    .dataframe tbody tr th {\n",
              "        vertical-align: top;\n",
              "    }\n",
              "\n",
              "    .dataframe thead th {\n",
              "        text-align: right;\n",
              "    }\n",
              "</style>\n",
              "<table border=\"1\" class=\"dataframe\">\n",
              "  <thead>\n",
              "    <tr style=\"text-align: right;\">\n",
              "      <th></th>\n",
              "      <th>age</th>\n",
              "      <th>anaemia</th>\n",
              "      <th>creatinine_phosphokinase</th>\n",
              "      <th>diabetes</th>\n",
              "      <th>ejection_fraction</th>\n",
              "      <th>high_blood_pressure</th>\n",
              "      <th>platelets</th>\n",
              "      <th>serum_creatinine</th>\n",
              "      <th>serum_sodium</th>\n",
              "      <th>sex</th>\n",
              "      <th>smoking</th>\n",
              "      <th>time</th>\n",
              "      <th>DEATH_EVENT</th>\n",
              "    </tr>\n",
              "  </thead>\n",
              "  <tbody>\n",
              "    <tr>\n",
              "      <th>age</th>\n",
              "      <td>1.000000</td>\n",
              "      <td>0.088006</td>\n",
              "      <td>-0.081584</td>\n",
              "      <td>-0.101012</td>\n",
              "      <td>0.060098</td>\n",
              "      <td>0.093289</td>\n",
              "      <td>-0.052354</td>\n",
              "      <td>0.159187</td>\n",
              "      <td>-0.045966</td>\n",
              "      <td>0.065430</td>\n",
              "      <td>0.018668</td>\n",
              "      <td>-0.224068</td>\n",
              "      <td>0.253729</td>\n",
              "    </tr>\n",
              "    <tr>\n",
              "      <th>anaemia</th>\n",
              "      <td>0.088006</td>\n",
              "      <td>1.000000</td>\n",
              "      <td>-0.190741</td>\n",
              "      <td>-0.012729</td>\n",
              "      <td>0.031557</td>\n",
              "      <td>0.038182</td>\n",
              "      <td>-0.043786</td>\n",
              "      <td>0.052174</td>\n",
              "      <td>0.041882</td>\n",
              "      <td>-0.094769</td>\n",
              "      <td>-0.107290</td>\n",
              "      <td>-0.141414</td>\n",
              "      <td>0.066270</td>\n",
              "    </tr>\n",
              "    <tr>\n",
              "      <th>creatinine_phosphokinase</th>\n",
              "      <td>-0.081584</td>\n",
              "      <td>-0.190741</td>\n",
              "      <td>1.000000</td>\n",
              "      <td>-0.009639</td>\n",
              "      <td>-0.044080</td>\n",
              "      <td>-0.070590</td>\n",
              "      <td>0.024463</td>\n",
              "      <td>-0.016408</td>\n",
              "      <td>0.059550</td>\n",
              "      <td>0.079791</td>\n",
              "      <td>0.002421</td>\n",
              "      <td>-0.009346</td>\n",
              "      <td>0.062728</td>\n",
              "    </tr>\n",
              "    <tr>\n",
              "      <th>diabetes</th>\n",
              "      <td>-0.101012</td>\n",
              "      <td>-0.012729</td>\n",
              "      <td>-0.009639</td>\n",
              "      <td>1.000000</td>\n",
              "      <td>-0.004850</td>\n",
              "      <td>-0.012732</td>\n",
              "      <td>0.092193</td>\n",
              "      <td>-0.046975</td>\n",
              "      <td>-0.089551</td>\n",
              "      <td>-0.157730</td>\n",
              "      <td>-0.147173</td>\n",
              "      <td>0.033726</td>\n",
              "      <td>-0.001943</td>\n",
              "    </tr>\n",
              "    <tr>\n",
              "      <th>ejection_fraction</th>\n",
              "      <td>0.060098</td>\n",
              "      <td>0.031557</td>\n",
              "      <td>-0.044080</td>\n",
              "      <td>-0.004850</td>\n",
              "      <td>1.000000</td>\n",
              "      <td>0.024445</td>\n",
              "      <td>0.072177</td>\n",
              "      <td>-0.011302</td>\n",
              "      <td>0.175902</td>\n",
              "      <td>-0.148386</td>\n",
              "      <td>-0.067315</td>\n",
              "      <td>0.041729</td>\n",
              "      <td>-0.268603</td>\n",
              "    </tr>\n",
              "    <tr>\n",
              "      <th>high_blood_pressure</th>\n",
              "      <td>0.093289</td>\n",
              "      <td>0.038182</td>\n",
              "      <td>-0.070590</td>\n",
              "      <td>-0.012732</td>\n",
              "      <td>0.024445</td>\n",
              "      <td>1.000000</td>\n",
              "      <td>0.049963</td>\n",
              "      <td>-0.004935</td>\n",
              "      <td>0.037109</td>\n",
              "      <td>-0.104615</td>\n",
              "      <td>-0.055711</td>\n",
              "      <td>-0.196439</td>\n",
              "      <td>0.079351</td>\n",
              "    </tr>\n",
              "    <tr>\n",
              "      <th>platelets</th>\n",
              "      <td>-0.052354</td>\n",
              "      <td>-0.043786</td>\n",
              "      <td>0.024463</td>\n",
              "      <td>0.092193</td>\n",
              "      <td>0.072177</td>\n",
              "      <td>0.049963</td>\n",
              "      <td>1.000000</td>\n",
              "      <td>-0.041198</td>\n",
              "      <td>0.062125</td>\n",
              "      <td>-0.125120</td>\n",
              "      <td>0.028234</td>\n",
              "      <td>0.010514</td>\n",
              "      <td>-0.049139</td>\n",
              "    </tr>\n",
              "    <tr>\n",
              "      <th>serum_creatinine</th>\n",
              "      <td>0.159187</td>\n",
              "      <td>0.052174</td>\n",
              "      <td>-0.016408</td>\n",
              "      <td>-0.046975</td>\n",
              "      <td>-0.011302</td>\n",
              "      <td>-0.004935</td>\n",
              "      <td>-0.041198</td>\n",
              "      <td>1.000000</td>\n",
              "      <td>-0.189095</td>\n",
              "      <td>0.006970</td>\n",
              "      <td>-0.027414</td>\n",
              "      <td>-0.149315</td>\n",
              "      <td>0.294278</td>\n",
              "    </tr>\n",
              "    <tr>\n",
              "      <th>serum_sodium</th>\n",
              "      <td>-0.045966</td>\n",
              "      <td>0.041882</td>\n",
              "      <td>0.059550</td>\n",
              "      <td>-0.089551</td>\n",
              "      <td>0.175902</td>\n",
              "      <td>0.037109</td>\n",
              "      <td>0.062125</td>\n",
              "      <td>-0.189095</td>\n",
              "      <td>1.000000</td>\n",
              "      <td>-0.027566</td>\n",
              "      <td>0.004813</td>\n",
              "      <td>0.087640</td>\n",
              "      <td>-0.195204</td>\n",
              "    </tr>\n",
              "    <tr>\n",
              "      <th>sex</th>\n",
              "      <td>0.065430</td>\n",
              "      <td>-0.094769</td>\n",
              "      <td>0.079791</td>\n",
              "      <td>-0.157730</td>\n",
              "      <td>-0.148386</td>\n",
              "      <td>-0.104615</td>\n",
              "      <td>-0.125120</td>\n",
              "      <td>0.006970</td>\n",
              "      <td>-0.027566</td>\n",
              "      <td>1.000000</td>\n",
              "      <td>0.445892</td>\n",
              "      <td>-0.015608</td>\n",
              "      <td>-0.004316</td>\n",
              "    </tr>\n",
              "    <tr>\n",
              "      <th>smoking</th>\n",
              "      <td>0.018668</td>\n",
              "      <td>-0.107290</td>\n",
              "      <td>0.002421</td>\n",
              "      <td>-0.147173</td>\n",
              "      <td>-0.067315</td>\n",
              "      <td>-0.055711</td>\n",
              "      <td>0.028234</td>\n",
              "      <td>-0.027414</td>\n",
              "      <td>0.004813</td>\n",
              "      <td>0.445892</td>\n",
              "      <td>1.000000</td>\n",
              "      <td>-0.022839</td>\n",
              "      <td>-0.012623</td>\n",
              "    </tr>\n",
              "    <tr>\n",
              "      <th>time</th>\n",
              "      <td>-0.224068</td>\n",
              "      <td>-0.141414</td>\n",
              "      <td>-0.009346</td>\n",
              "      <td>0.033726</td>\n",
              "      <td>0.041729</td>\n",
              "      <td>-0.196439</td>\n",
              "      <td>0.010514</td>\n",
              "      <td>-0.149315</td>\n",
              "      <td>0.087640</td>\n",
              "      <td>-0.015608</td>\n",
              "      <td>-0.022839</td>\n",
              "      <td>1.000000</td>\n",
              "      <td>-0.526964</td>\n",
              "    </tr>\n",
              "    <tr>\n",
              "      <th>DEATH_EVENT</th>\n",
              "      <td>0.253729</td>\n",
              "      <td>0.066270</td>\n",
              "      <td>0.062728</td>\n",
              "      <td>-0.001943</td>\n",
              "      <td>-0.268603</td>\n",
              "      <td>0.079351</td>\n",
              "      <td>-0.049139</td>\n",
              "      <td>0.294278</td>\n",
              "      <td>-0.195204</td>\n",
              "      <td>-0.004316</td>\n",
              "      <td>-0.012623</td>\n",
              "      <td>-0.526964</td>\n",
              "      <td>1.000000</td>\n",
              "    </tr>\n",
              "  </tbody>\n",
              "</table>\n",
              "</div>\n",
              "      <button class=\"colab-df-convert\" onclick=\"convertToInteractive('df-27dbec27-53bc-4cd7-9f9b-fc53b245fb38')\"\n",
              "              title=\"Convert this dataframe to an interactive table.\"\n",
              "              style=\"display:none;\">\n",
              "        \n",
              "  <svg xmlns=\"http://www.w3.org/2000/svg\" height=\"24px\"viewBox=\"0 0 24 24\"\n",
              "       width=\"24px\">\n",
              "    <path d=\"M0 0h24v24H0V0z\" fill=\"none\"/>\n",
              "    <path d=\"M18.56 5.44l.94 2.06.94-2.06 2.06-.94-2.06-.94-.94-2.06-.94 2.06-2.06.94zm-11 1L8.5 8.5l.94-2.06 2.06-.94-2.06-.94L8.5 2.5l-.94 2.06-2.06.94zm10 10l.94 2.06.94-2.06 2.06-.94-2.06-.94-.94-2.06-.94 2.06-2.06.94z\"/><path d=\"M17.41 7.96l-1.37-1.37c-.4-.4-.92-.59-1.43-.59-.52 0-1.04.2-1.43.59L10.3 9.45l-7.72 7.72c-.78.78-.78 2.05 0 2.83L4 21.41c.39.39.9.59 1.41.59.51 0 1.02-.2 1.41-.59l7.78-7.78 2.81-2.81c.8-.78.8-2.07 0-2.86zM5.41 20L4 18.59l7.72-7.72 1.47 1.35L5.41 20z\"/>\n",
              "  </svg>\n",
              "      </button>\n",
              "      \n",
              "  <style>\n",
              "    .colab-df-container {\n",
              "      display:flex;\n",
              "      flex-wrap:wrap;\n",
              "      gap: 12px;\n",
              "    }\n",
              "\n",
              "    .colab-df-convert {\n",
              "      background-color: #E8F0FE;\n",
              "      border: none;\n",
              "      border-radius: 50%;\n",
              "      cursor: pointer;\n",
              "      display: none;\n",
              "      fill: #1967D2;\n",
              "      height: 32px;\n",
              "      padding: 0 0 0 0;\n",
              "      width: 32px;\n",
              "    }\n",
              "\n",
              "    .colab-df-convert:hover {\n",
              "      background-color: #E2EBFA;\n",
              "      box-shadow: 0px 1px 2px rgba(60, 64, 67, 0.3), 0px 1px 3px 1px rgba(60, 64, 67, 0.15);\n",
              "      fill: #174EA6;\n",
              "    }\n",
              "\n",
              "    [theme=dark] .colab-df-convert {\n",
              "      background-color: #3B4455;\n",
              "      fill: #D2E3FC;\n",
              "    }\n",
              "\n",
              "    [theme=dark] .colab-df-convert:hover {\n",
              "      background-color: #434B5C;\n",
              "      box-shadow: 0px 1px 3px 1px rgba(0, 0, 0, 0.15);\n",
              "      filter: drop-shadow(0px 1px 2px rgba(0, 0, 0, 0.3));\n",
              "      fill: #FFFFFF;\n",
              "    }\n",
              "  </style>\n",
              "\n",
              "      <script>\n",
              "        const buttonEl =\n",
              "          document.querySelector('#df-27dbec27-53bc-4cd7-9f9b-fc53b245fb38 button.colab-df-convert');\n",
              "        buttonEl.style.display =\n",
              "          google.colab.kernel.accessAllowed ? 'block' : 'none';\n",
              "\n",
              "        async function convertToInteractive(key) {\n",
              "          const element = document.querySelector('#df-27dbec27-53bc-4cd7-9f9b-fc53b245fb38');\n",
              "          const dataTable =\n",
              "            await google.colab.kernel.invokeFunction('convertToInteractive',\n",
              "                                                     [key], {});\n",
              "          if (!dataTable) return;\n",
              "\n",
              "          const docLinkHtml = 'Like what you see? Visit the ' +\n",
              "            '<a target=\"_blank\" href=https://colab.research.google.com/notebooks/data_table.ipynb>data table notebook</a>'\n",
              "            + ' to learn more about interactive tables.';\n",
              "          element.innerHTML = '';\n",
              "          dataTable['output_type'] = 'display_data';\n",
              "          await google.colab.output.renderOutput(dataTable, element);\n",
              "          const docLink = document.createElement('div');\n",
              "          docLink.innerHTML = docLinkHtml;\n",
              "          element.appendChild(docLink);\n",
              "        }\n",
              "      </script>\n",
              "    </div>\n",
              "  </div>\n",
              "  "
            ]
          },
          "metadata": {},
          "execution_count": 3
        }
      ]
    },
    {
      "cell_type": "markdown",
      "source": [
        "## **Zadatak 1: Modeliranje vremena provedenog u bolnici**\n",
        "\n",
        "Potrebno je provesti regresijsku analizu za modeliranje broja dana provedenih u bolnici, među populacijom pacijenata. Počnimo s uzorkom koji je predstavljen našim skupom podataka. Zanimaju nas dva prediktora: dijabetes i visoki krvni tlak. Koristite ova dva prediktora kako biste modelirali broj dana u bolnici pomoću modela linearne regresije. \n"
      ],
      "metadata": {
        "id": "_kCjRYXyc-5o"
      }
    },
    {
      "cell_type": "markdown",
      "source": [
        "Za početak, neka primjer modela bude:\n",
        "\n",
        "vrijeme ~ C (dijabetes) + C (visoki krvni tlak).\n",
        "\n",
        "Pomoću *ols()* funkcije iz biblioteke statsmodels definirajte model i procijenite parametre. "
      ],
      "metadata": {
        "id": "Ulg8CO5hdcJ3"
      }
    },
    {
      "cell_type": "code",
      "source": [
        "model = smf.ols(formula='time ~ C(diabetes) + C(high_blood_pressure)', data=df)\n",
        "res = model.fit()\n",
        "print(res.summary())"
      ],
      "metadata": {
        "id": "K5HAL9NVd5aI",
        "colab": {
          "base_uri": "https://localhost:8080/"
        },
        "outputId": "469626e6-c2fc-4c72-bb95-ebe95841228f"
      },
      "execution_count": null,
      "outputs": [
        {
          "output_type": "stream",
          "name": "stdout",
          "text": [
            "                            OLS Regression Results                            \n",
            "==============================================================================\n",
            "Dep. Variable:                   time   R-squared:                       0.040\n",
            "Model:                            OLS   Adj. R-squared:                  0.033\n",
            "Method:                 Least Squares   F-statistic:                     6.097\n",
            "Date:                Tue, 11 Apr 2023   Prob (F-statistic):            0.00254\n",
            "Time:                        07:07:33   Log-Likelihood:                -1718.9\n",
            "No. Observations:                 299   AIC:                             3444.\n",
            "Df Residuals:                     296   BIC:                             3455.\n",
            "Df Model:                           2                                         \n",
            "Covariance Type:            nonrobust                                         \n",
            "===============================================================================================\n",
            "                                  coef    std err          t      P>|t|      [0.025      0.975]\n",
            "-----------------------------------------------------------------------------------------------\n",
            "Intercept                     139.3851      6.658     20.934      0.000     126.282     152.489\n",
            "C(diabetes)[T.1]                4.9059      8.949      0.548      0.584     -12.706      22.518\n",
            "C(high_blood_pressure)[T.1]   -31.8228      9.247     -3.441      0.001     -50.021     -13.624\n",
            "==============================================================================\n",
            "Omnibus:                      159.508   Durbin-Watson:                   0.076\n",
            "Prob(Omnibus):                  0.000   Jarque-Bera (JB):               18.166\n",
            "Skew:                           0.076   Prob(JB):                     0.000114\n",
            "Kurtosis:                       1.802   Cond. No.                         2.82\n",
            "==============================================================================\n",
            "\n",
            "Notes:\n",
            "[1] Standard Errors assume that the covariance matrix of the errors is correctly specified.\n"
          ]
        }
      ]
    },
    {
      "cell_type": "markdown",
      "source": [
        "Ispišite vrijednosti koeficijenata u modelu, p-vrijednosti F i t statističkih testova i $R_{adjusted}^2$. Komentirajte dobivene vrijednosti."
      ],
      "metadata": {
        "id": "MSAkcXsfd6xF"
      }
    },
    {
      "cell_type": "code",
      "source": [
        "print(res.params)\n",
        "print(res.f_pvalue)\n",
        "print(res.pvalues)\n",
        "print(\"R^2= \",res.rsquared_adj)\n",
        "#Osobe koje nemaju ni dijabetes ni visok krvni tlak prosječno provedu 139 dana u bolnici, oni koji imaju dijabetes 5 dana više, oni koji visok krvni tlak prosjecno 107 dana, a oboje 112 dana. \n",
        "#Koeficijent odlučnosti je vrlo mali."
      ],
      "metadata": {
        "colab": {
          "base_uri": "https://localhost:8080/"
        },
        "id": "zqq1lyEmIT98",
        "outputId": "0b08b5ce-f9af-4467-bc07-c6022089f0f9"
      },
      "execution_count": null,
      "outputs": [
        {
          "output_type": "stream",
          "name": "stdout",
          "text": [
            "Intercept                      139.385132\n",
            "C(diabetes)[T.1]                 4.905908\n",
            "C(high_blood_pressure)[T.1]    -31.822789\n",
            "dtype: float64\n",
            "0.0025430521169880053\n",
            "Intercept                      2.422445e-60\n",
            "C(diabetes)[T.1]               5.839666e-01\n",
            "C(high_blood_pressure)[T.1]    6.622255e-04\n",
            "dtype: float64\n",
            "R^2=  0.03307415281502568\n"
          ]
        }
      ]
    },
    {
      "cell_type": "markdown",
      "source": [
        "Interpretirajte dobiveni model prema vrijednostima koeficijenata. Navedite prosječno vrijeme provedeno u bolnici za:\n",
        "\n",
        "1. Pacijente koji nemaju dijabetes ni visoki krvni tlak.\n",
        "2. Pacijente koji imaju dijabetes, ali nemaju visoki krvni tlak.\n",
        "3. Pacijente koji nemaju dijabetes, ali imaju visoki krvni tlak.\n",
        "4. Pacijente koji imaju i dijabetes i visoki krvni tlak."
      ],
      "metadata": {
        "id": "73LJEuTLeNj3"
      }
    },
    {
      "cell_type": "code",
      "source": [
        "print(\"ni d ni vkt: \", df[(df['diabetes']==0) & (df['high_blood_pressure']==0)]['time'].mean())\n",
        "print(\"d, ali ne vkt: \", df[(df['diabetes']==1) & (df['high_blood_pressure']==0)]['time'].mean())\n",
        "print(\"ne d, ali vkt: \", df[(df['diabetes']==0) & (df['high_blood_pressure']==1)]['time'].mean())\n",
        "print(\"i d i vkt: \", df[(df['diabetes']==1) & (df['high_blood_pressure']==1)]['time'].mean())"
      ],
      "metadata": {
        "colab": {
          "base_uri": "https://localhost:8080/"
        },
        "id": "jBhVYhpEKkLz",
        "outputId": "e33af9ac-9bdb-4705-de67-4ea21c3d7d9a"
      },
      "execution_count": null,
      "outputs": [
        {
          "output_type": "stream",
          "name": "stdout",
          "text": [
            "ni d ni vkt:  139.0\n",
            "d, ali ne vkt:  144.8170731707317\n",
            "ne d, ali vkt:  108.25806451612904\n",
            "i d i vkt:  111.46511627906976\n"
          ]
        }
      ]
    },
    {
      "cell_type": "markdown",
      "source": [
        "## **Zadatak 2: Modeliranje vremena provedenog u bolnici (dodavanje interakcijskih članova)**\n",
        "\n",
        "U prethodnom modelu, moguće je zamijetiti kako osobe s povišenim krvnim tlakom kraće borave u bolnici, iako bi se moglo očekivati suprotno. Jedan od razloga zašto se ozbiljna stanja (poput hipertenzije) mogu povezati s kraćim vremenom provedenim u bolnici jest treći faktor - smrt. Pacijenti koji imaju obziljno stanje mogli bi provesti manje vremena u bolnici jer brzo umiru. Pokušajte steći bolji uvid u dani problem, ubacivanjem smrti kao još jednog prediktora u prethodnom modelu."
      ],
      "metadata": {
        "id": "ajt1Fadpe_L3"
      }
    },
    {
      "cell_type": "code",
      "source": [
        "model_death = smf.ols(formula='time ~ C(diabetes) + C(high_blood_pressure) + C(DEATH_EVENT)', data=df)\n",
        "res_death = model_death.fit()\n",
        "print(res_death.summary())"
      ],
      "metadata": {
        "id": "Nl4L1EOpgIl5",
        "colab": {
          "base_uri": "https://localhost:8080/"
        },
        "outputId": "26c0f06d-07dd-4126-fbbd-aa1b9742ce69"
      },
      "execution_count": null,
      "outputs": [
        {
          "output_type": "stream",
          "name": "stdout",
          "text": [
            "                            OLS Regression Results                            \n",
            "==============================================================================\n",
            "Dep. Variable:                   time   R-squared:                       0.303\n",
            "Model:                            OLS   Adj. R-squared:                  0.296\n",
            "Method:                 Least Squares   F-statistic:                     42.69\n",
            "Date:                Tue, 11 Apr 2023   Prob (F-statistic):           6.12e-23\n",
            "Time:                        07:27:36   Log-Likelihood:                -1671.0\n",
            "No. Observations:                 299   AIC:                             3350.\n",
            "Df Residuals:                     295   BIC:                             3365.\n",
            "Df Model:                           3                                         \n",
            "Covariance Type:            nonrobust                                         \n",
            "===============================================================================================\n",
            "                                  coef    std err          t      P>|t|      [0.025      0.975]\n",
            "-----------------------------------------------------------------------------------------------\n",
            "Intercept                     164.5089      6.162     26.699      0.000     152.383     176.635\n",
            "C(diabetes)[T.1]                4.8305      7.638      0.632      0.528     -10.202      19.863\n",
            "C(high_blood_pressure)[T.1]   -25.1955      7.918     -3.182      0.002     -40.778      -9.613\n",
            "C(DEATH_EVENT)[T.1]           -85.4005      8.094    -10.551      0.000    -101.330     -69.471\n",
            "==============================================================================\n",
            "Omnibus:                       34.592   Durbin-Watson:                   0.484\n",
            "Prob(Omnibus):                  0.000   Jarque-Bera (JB):               11.510\n",
            "Skew:                           0.184   Prob(JB):                      0.00317\n",
            "Kurtosis:                       2.112   Cond. No.                         3.02\n",
            "==============================================================================\n",
            "\n",
            "Notes:\n",
            "[1] Standard Errors assume that the covariance matrix of the errors is correctly specified.\n"
          ]
        }
      ]
    },
    {
      "cell_type": "markdown",
      "source": [
        "Procijenite parametre pomoću funkcije *ols()* te interpretirajte dobivene koeficijente i $R_{adjusted}^2$. Opisuje li dobiveni model dani problem bolje od prethodnog modela? Je li smrt statistički značajan prediktor?"
      ],
      "metadata": {
        "id": "zL2Jl_aCgQlI"
      }
    },
    {
      "cell_type": "code",
      "source": [
        "# Dani model znatno bolje opisuje problem od prethodnog modela što vidimo uspoređujući R^2 adjusted koji je s 0.03 porastao na 0.296. \n",
        "# p vrijednost t statističkog testa za smrt je vrlo mala vrijednost što nam govori da je vrlo mala vjerojatnost da smrt nema nikakav \n",
        "# utjecaj na vrijeme provedeno u bolnici izrazito mala. Zaključujemo da je smrt statistički značajan prediktor."
      ],
      "metadata": {
        "id": "1rRll5zlPxqj"
      },
      "execution_count": null,
      "outputs": []
    },
    {
      "cell_type": "markdown",
      "source": [
        "Razmislite jesu li smrt i visoki krvni tlak međusobno nezavisne varijable. Na temelju Vašeg zaključka, razmotrite potrebu za ubacivanjem njihovog interakcijskog člana u prethodni model. Procijenite parametre modela te interpretirajte dobivene koeficijente i $R_{adjusted}^2$. Opisuje li dobiveni model dani problem bolje od prethodnog modela?"
      ],
      "metadata": {
        "id": "c8kYnxvSglhI"
      }
    },
    {
      "cell_type": "code",
      "source": [
        "# Izračunavanjem korelacije (0.079351) zaključujemo da su nezavisne\n",
        "model_death1 = smf.ols(formula='time ~ C(diabetes) + C(high_blood_pressure)*DEATH_EVENT', data=df)\n",
        "res_death1 = model_death1.fit()\n",
        "print(res_death1.summary())\n",
        "# Ako promatramo dobiveni R^2 adjusted uočavamo da dobiveni model ne opisuje problem bolje, ali nije neka znatna razlika. "
      ],
      "metadata": {
        "id": "P3WKxuTIhB0Y",
        "colab": {
          "base_uri": "https://localhost:8080/"
        },
        "outputId": "5446147f-7641-4e43-eb38-404052286615"
      },
      "execution_count": null,
      "outputs": [
        {
          "output_type": "stream",
          "name": "stdout",
          "text": [
            "                            OLS Regression Results                            \n",
            "==============================================================================\n",
            "Dep. Variable:                   time   R-squared:                       0.303\n",
            "Model:                            OLS   Adj. R-squared:                  0.293\n",
            "Method:                 Least Squares   F-statistic:                     31.92\n",
            "Date:                Tue, 11 Apr 2023   Prob (F-statistic):           4.32e-22\n",
            "Time:                        07:41:20   Log-Likelihood:                -1671.0\n",
            "No. Observations:                 299   AIC:                             3352.\n",
            "Df Residuals:                     294   BIC:                             3371.\n",
            "Df Model:                           4                                         \n",
            "Covariance Type:            nonrobust                                         \n",
            "===========================================================================================================\n",
            "                                              coef    std err          t      P>|t|      [0.025      0.975]\n",
            "-----------------------------------------------------------------------------------------------------------\n",
            "Intercept                                 164.8348      6.476     25.452      0.000     152.089     177.581\n",
            "C(diabetes)[T.1]                            4.7903      7.655      0.626      0.532     -10.275      19.855\n",
            "C(high_blood_pressure)[T.1]               -26.1462      9.781     -2.673      0.008     -45.395      -6.897\n",
            "DEATH_EVENT                               -86.4520     10.286     -8.405      0.000    -106.696     -66.208\n",
            "C(high_blood_pressure)[T.1]:DEATH_EVENT     2.7778     16.725      0.166      0.868     -30.137      35.693\n",
            "==============================================================================\n",
            "Omnibus:                       34.161   Durbin-Watson:                   0.484\n",
            "Prob(Omnibus):                  0.000   Jarque-Bera (JB):               11.463\n",
            "Skew:                           0.185   Prob(JB):                      0.00324\n",
            "Kurtosis:                       2.115   Cond. No.                         6.31\n",
            "==============================================================================\n",
            "\n",
            "Notes:\n",
            "[1] Standard Errors assume that the covariance matrix of the errors is correctly specified.\n"
          ]
        }
      ]
    },
    {
      "cell_type": "markdown",
      "source": [
        "Navedite prosječno vrijeme provedeno u bolnici za:\n",
        "\n",
        "1. Pacijente koji imaju visoki krvni tlak, a ne umiru tijekom razbolja praćenja.\n",
        "2. Pacijente koji imaju visoki krvi tlak, a umiru tijekom razdoblja praćenja."
      ],
      "metadata": {
        "id": "9K9YixOghYPp"
      }
    },
    {
      "cell_type": "code",
      "source": [
        "print(\"Ne umiru: \", df[(df['DEATH_EVENT']==0) & (df['high_blood_pressure']==1)]['time'].mean())\n",
        "print(\"Umiru: \", df[(df['DEATH_EVENT']==1) & (df['high_blood_pressure']==1)]['time'].mean())"
      ],
      "metadata": {
        "colab": {
          "base_uri": "https://localhost:8080/"
        },
        "id": "a98z12aHRSKN",
        "outputId": "c2fdec5e-1261-49f9-e1dd-1e89a294fb82"
      },
      "execution_count": null,
      "outputs": [
        {
          "output_type": "stream",
          "name": "stdout",
          "text": [
            "Ne umiru:  140.57575757575756\n",
            "Umiru:  57.1025641025641\n"
          ]
        }
      ]
    },
    {
      "cell_type": "markdown",
      "source": [
        "## **Zadatak 3. Logaritamske transformacije**\n",
        "\n",
        "Prisjetite se da logaritamska transformacija izlazne varijable čini model multiplikativnim. Definirajte linearni model za predviđanje vremena provedenog u bolnici, a kao nezavisne varijable upotrijebite visoki krvni tlak, dijabetes i ishod smrti."
      ],
      "metadata": {
        "id": "kLvjfui0cBdH"
      }
    },
    {
      "cell_type": "code",
      "source": [
        "model_ = smf.ols(formula='time ~ C(diabetes) + C(high_blood_pressure) + C(DEATH_EVENT)', data=df)\n",
        "res_ = model_.fit()\n",
        "print(res_.summary())"
      ],
      "metadata": {
        "id": "a51Nkyp6e8eK",
        "colab": {
          "base_uri": "https://localhost:8080/"
        },
        "outputId": "80de51c1-b710-49f9-c831-1c7f30d16ee8"
      },
      "execution_count": null,
      "outputs": [
        {
          "output_type": "stream",
          "name": "stdout",
          "text": [
            "                            OLS Regression Results                            \n",
            "==============================================================================\n",
            "Dep. Variable:                   time   R-squared:                       0.303\n",
            "Model:                            OLS   Adj. R-squared:                  0.296\n",
            "Method:                 Least Squares   F-statistic:                     42.69\n",
            "Date:                Tue, 11 Apr 2023   Prob (F-statistic):           6.12e-23\n",
            "Time:                        07:49:32   Log-Likelihood:                -1671.0\n",
            "No. Observations:                 299   AIC:                             3350.\n",
            "Df Residuals:                     295   BIC:                             3365.\n",
            "Df Model:                           3                                         \n",
            "Covariance Type:            nonrobust                                         \n",
            "===============================================================================================\n",
            "                                  coef    std err          t      P>|t|      [0.025      0.975]\n",
            "-----------------------------------------------------------------------------------------------\n",
            "Intercept                     164.5089      6.162     26.699      0.000     152.383     176.635\n",
            "C(diabetes)[T.1]                4.8305      7.638      0.632      0.528     -10.202      19.863\n",
            "C(high_blood_pressure)[T.1]   -25.1955      7.918     -3.182      0.002     -40.778      -9.613\n",
            "C(DEATH_EVENT)[T.1]           -85.4005      8.094    -10.551      0.000    -101.330     -69.471\n",
            "==============================================================================\n",
            "Omnibus:                       34.592   Durbin-Watson:                   0.484\n",
            "Prob(Omnibus):                  0.000   Jarque-Bera (JB):               11.510\n",
            "Skew:                           0.184   Prob(JB):                      0.00317\n",
            "Kurtosis:                       2.112   Cond. No.                         3.02\n",
            "==============================================================================\n",
            "\n",
            "Notes:\n",
            "[1] Standard Errors assume that the covariance matrix of the errors is correctly specified.\n"
          ]
        }
      ]
    },
    {
      "cell_type": "markdown",
      "source": [
        "Zatim izvedite logaritamsku transformaciju izlazne varijable na način da kreirate dodatni stupac (*log_time*) u skupu podataka koji sadrži logaritme vrijednosti iz stupca *time*. Ponovno definirajte model regresije kao prethodni, no ovaj puta s novodefiniranim stupcem kao izlaznom varijablom. "
      ],
      "metadata": {
        "id": "qczB3aUze9oF"
      }
    },
    {
      "cell_type": "code",
      "source": [
        "df['log_time']=np.log(df['time'])\n",
        "model_log = smf.ols(formula='log_time ~ C(diabetes) + C(high_blood_pressure) + C(DEATH_EVENT)', data=df)\n",
        "res_log = model_log.fit()\n",
        "print(res_log.summary())"
      ],
      "metadata": {
        "id": "uxATfT8LfbCv",
        "colab": {
          "base_uri": "https://localhost:8080/"
        },
        "outputId": "d36e8733-d106-47a4-a068-96f4e056bb2a"
      },
      "execution_count": null,
      "outputs": [
        {
          "output_type": "stream",
          "name": "stdout",
          "text": [
            "                            OLS Regression Results                            \n",
            "==============================================================================\n",
            "Dep. Variable:               log_time   R-squared:                       0.359\n",
            "Model:                            OLS   Adj. R-squared:                  0.352\n",
            "Method:                 Least Squares   F-statistic:                     55.05\n",
            "Date:                Tue, 11 Apr 2023   Prob (F-statistic):           2.75e-28\n",
            "Time:                        07:50:19   Log-Likelihood:                -325.52\n",
            "No. Observations:                 299   AIC:                             659.0\n",
            "Df Residuals:                     295   BIC:                             673.8\n",
            "Df Model:                           3                                         \n",
            "Covariance Type:            nonrobust                                         \n",
            "===============================================================================================\n",
            "                                  coef    std err          t      P>|t|      [0.025      0.975]\n",
            "-----------------------------------------------------------------------------------------------\n",
            "Intercept                       4.9891      0.068     72.891      0.000       4.854       5.124\n",
            "C(diabetes)[T.1]                0.0699      0.085      0.823      0.411      -0.097       0.237\n",
            "C(high_blood_pressure)[T.1]    -0.2259      0.088     -2.569      0.011      -0.399      -0.053\n",
            "C(DEATH_EVENT)[T.1]            -1.1075      0.090    -12.318      0.000      -1.284      -0.931\n",
            "==============================================================================\n",
            "Omnibus:                       22.832   Durbin-Watson:                   0.615\n",
            "Prob(Omnibus):                  0.000   Jarque-Bera (JB):               27.194\n",
            "Skew:                          -0.620   Prob(JB):                     1.24e-06\n",
            "Kurtosis:                       3.803   Cond. No.                         3.02\n",
            "==============================================================================\n",
            "\n",
            "Notes:\n",
            "[1] Standard Errors assume that the covariance matrix of the errors is correctly specified.\n"
          ]
        }
      ]
    },
    {
      "cell_type": "markdown",
      "source": [
        "Za varijablu visoki tlak izračunajte koliki je njezin aditivni učinak u prvom modelu te koliki je multiplikativni učinak u drugom modelu na temelju pripadnih koeficijenata. Drugim riječima, kako se mijenja vrijednost izlazne varijable u prvom, odnosno drugom modelu, ako pacijent ima visoki krvni tlak?"
      ],
      "metadata": {
        "id": "jDn2VYKDfcHW"
      }
    },
    {
      "cell_type": "code",
      "source": [
        "# Izlazna varijabla se više mijenja u prvom za -25.1955), a u drugom vrijednost koeficijenta stavimo kao eksponent baze e, i tu vrijednost množimo s x"
      ],
      "metadata": {
        "id": "9dNE9JAHS8N_"
      },
      "execution_count": null,
      "outputs": []
    },
    {
      "cell_type": "markdown",
      "source": [
        "## **Zadatak 4: Logistička regresija: Modeliranje ishoda smrti**\n",
        "\n",
        "Modelirajte (binarni) ishod smrti na temelju **svih** karakteristika pacijenata. Izuzmite jedino vrijeme provedeno u bolnici jer smo vidjeli kako je ono u velikoj korelaciji sa smrću.\n",
        "\n",
        "Kao prvi korak, provedite standardizaciju prediktora pomoću z-vrijednosti. To će Vam olakšati tumačenje prediktora koji su vrlo različitih skala. \n",
        "\n"
      ],
      "metadata": {
        "id": "7TDU09zlV-tH"
      }
    },
    {
      "cell_type": "code",
      "source": [
        "df['age'] = (df['age'] - df['age'].mean()) / df['age'].std()\n",
        "df['anaemia'] = (df['anaemia'] - df['anaemia'].mean()) / df['anaemia'].std()\n",
        "df['creatinine_phosphokinase'] = (df['creatinine_phosphokinase'] - df['creatinine_phosphokinase'].mean()) / df['creatinine_phosphokinase'].std()\n",
        "df['diabetes'] = (df['diabetes'] - df['diabetes'].mean()) / df['diabetes'].std()\n",
        "df['ejection_fraction'] = (df['ejection_fraction'] - df['ejection_fraction'].mean()) / df['ejection_fraction'].std()\n",
        "df['high_blood_pressure'] = (df['high_blood_pressure'] - df['high_blood_pressure'].mean()) / df['high_blood_pressure'].std()\n",
        "df['platelets'] = (df['platelets'] - df['platelets'].mean()) / df['platelets'].std()\n",
        "df['serum_creatinine'] = (df['serum_creatinine'] - df['serum_creatinine'].mean()) / df['serum_creatinine'].std()\n",
        "df['serum_sodium'] = (df['serum_sodium'] - df['serum_sodium'].mean()) / df['serum_sodium'].std()\n",
        "df['sex'] = (df['sex'] - df['sex'].mean()) / df['sex'].std()\n",
        "df['smoking'] = (df['smoking'] - df['smoking'].mean()) / df['smoking'].std()\n"
      ],
      "metadata": {
        "id": "i2ucRqzjWgW-"
      },
      "execution_count": null,
      "outputs": []
    },
    {
      "cell_type": "markdown",
      "source": [
        "Umjesto linearne, koristite logističku regresiju za modeliranje binarnog ishoda smrti. Napomena: koristite *logit()* funkciju iz biblioteke statsmodels. "
      ],
      "metadata": {
        "id": "v7E8XfszWhsW"
      }
    },
    {
      "cell_type": "code",
      "source": [
        "\n",
        "model_bin = smf.logit(formula='DEATH_EVENT ~ age + anaemia + creatinine_phosphokinase + diabetes + ejection_fraction + high_blood_pressure + platelets + serum_creatinine + serum_sodium + sex + smoking', data=df)\n",
        "res_bin = model_bin.fit()\n",
        "print(res_bin.summary())"
      ],
      "metadata": {
        "id": "zx4ts1XuW509",
        "colab": {
          "base_uri": "https://localhost:8080/"
        },
        "outputId": "043d744c-a570-4042-f9ed-edb185db8005"
      },
      "execution_count": null,
      "outputs": [
        {
          "output_type": "stream",
          "name": "stdout",
          "text": [
            "Optimization terminated successfully.\n",
            "         Current function value: 0.492108\n",
            "         Iterations 6\n",
            "                           Logit Regression Results                           \n",
            "==============================================================================\n",
            "Dep. Variable:            DEATH_EVENT   No. Observations:                  299\n",
            "Model:                          Logit   Df Residuals:                      287\n",
            "Method:                           MLE   Df Model:                           11\n",
            "Date:                Tue, 11 Apr 2023   Pseudo R-squ.:                  0.2160\n",
            "Time:                        08:21:51   Log-Likelihood:                -147.14\n",
            "converged:                       True   LL-Null:                       -187.67\n",
            "Covariance Type:            nonrobust   LLR p-value:                 9.169e-13\n",
            "============================================================================================\n",
            "                               coef    std err          z      P>|z|      [0.025      0.975]\n",
            "--------------------------------------------------------------------------------------------\n",
            "Intercept                   -0.9879      0.157     -6.310      0.000      -1.295      -0.681\n",
            "age                          0.6624      0.156      4.241      0.000       0.356       0.969\n",
            "anaemia                      0.2073      0.149      1.389      0.165      -0.085       0.500\n",
            "creatinine_phosphokinase     0.2819      0.139      2.034      0.042       0.010       0.553\n",
            "diabetes                     0.0748      0.147      0.509      0.611      -0.213       0.363\n",
            "ejection_fraction           -0.8322      0.176     -4.731      0.000      -1.177      -0.487\n",
            "high_blood_pressure          0.2003      0.146      1.369      0.171      -0.087       0.487\n",
            "platelets                   -0.0694      0.158     -0.439      0.661      -0.379       0.241\n",
            "serum_creatinine             0.6847      0.179      3.817      0.000       0.333       1.036\n",
            "serum_sodium                -0.2500      0.147     -1.698      0.090      -0.539       0.039\n",
            "sex                         -0.1908      0.168     -1.137      0.255      -0.520       0.138\n",
            "smoking                      0.0634      0.163      0.389      0.697      -0.256       0.383\n",
            "============================================================================================\n"
          ]
        }
      ]
    },
    {
      "cell_type": "markdown",
      "source": [
        "Protumačite dobivene koeficijente i $R_{adjusted}^2$. Koji su prediktori statistički značajni za modeliranje smrtnog ishoda? \n",
        "Pomoću *errorbar()* funkcije iz biblioteke matplotlib, vizualizirajte učinak svakog prediktora. Vrijednosti koeficijenata i standardne greške možete izvući iz modela regresije (*model.params.values* i *model.bse.values*). "
      ],
      "metadata": {
        "id": "qmMavT0MW7bG"
      }
    },
    {
      "cell_type": "code",
      "source": [
        "# značajni su nam age, ejection_fraction, serum_creatinine, serum_sodium, creatinine_phosphokinase\n",
        "plt.errorbar(x=model_bin.exog_names[1:],y=res_bin.params.values[1:], yerr=res_bin.bse.values[1:], fmt='.', color='black', ecolor='tab:pink', elinewidth=2, capsize=0)\n",
        "plt.xticks(rotation=60,fontsize=8)\n",
        "plt.show()"
      ],
      "metadata": {
        "id": "EmpGXRmDYD7e",
        "colab": {
          "base_uri": "https://localhost:8080/",
          "height": 547
        },
        "outputId": "1f8aa670-8ae3-464d-e027-95b64ab3c0f7"
      },
      "execution_count": null,
      "outputs": [
        {
          "output_type": "display_data",
          "data": {
            "text/plain": [
              "<Figure size 640x480 with 1 Axes>"
            ],
            "image/png": "[encoded data removed]"
          },
          "metadata": {}
        }
      ]
    },
    {
      "cell_type": "markdown",
      "source": [
        "### **Zadatak 4.1. Logistička regresija: Upravljanje prediktorima**\n",
        "\n",
        "Primijetite da nezavisne varijable (one koje se koriste kao prediktori u regresijskom modelu) često koreliraju. Primjerice, serumski kreatinin važan je pokazatelj zdravlja bubrega. Pomoću modela logističke regresije procijenite učinak serumskog kreatinina na zdravlje pacijenta. Drugim riječima, definirajte model logističke regresije koji kao izlaznu varijablu ima ishod smrti, a kao prediktor razinu kreatinina u krvi. "
      ],
      "metadata": {
        "id": "pRxKmsp-apKa"
      }
    },
    {
      "cell_type": "code",
      "source": [
        "model_sk = smf.logit(formula='DEATH_EVENT ~ serum_creatinine', data=df)\n",
        "res_sk = model_sk.fit()\n",
        "print(res_sk.summary())"
      ],
      "metadata": {
        "id": "EPCU5PJHbXYA",
        "colab": {
          "base_uri": "https://localhost:8080/"
        },
        "outputId": "74174a3e-e433-4894-c8b5-4045327957aa"
      },
      "execution_count": null,
      "outputs": [
        {
          "output_type": "stream",
          "name": "stdout",
          "text": [
            "Optimization terminated successfully.\n",
            "         Current function value: 0.580689\n",
            "         Iterations 6\n",
            "                           Logit Regression Results                           \n",
            "==============================================================================\n",
            "Dep. Variable:            DEATH_EVENT   No. Observations:                  299\n",
            "Model:                          Logit   Df Residuals:                      297\n",
            "Method:                           MLE   Df Model:                            1\n",
            "Date:                Tue, 11 Apr 2023   Pseudo R-squ.:                 0.07485\n",
            "Time:                        08:42:12   Log-Likelihood:                -173.63\n",
            "converged:                       True   LL-Null:                       -187.67\n",
            "Covariance Type:            nonrobust   LLR p-value:                 1.154e-07\n",
            "====================================================================================\n",
            "                       coef    std err          z      P>|z|      [0.025      0.975]\n",
            "------------------------------------------------------------------------------------\n",
            "Intercept           -0.7429      0.131     -5.683      0.000      -0.999      -0.487\n",
            "serum_creatinine     0.8526      0.204      4.180      0.000       0.453       1.252\n",
            "====================================================================================\n"
          ]
        }
      ]
    },
    {
      "cell_type": "markdown",
      "source": [
        "Primijetite da je serumski kreatinin u značajnoj korelaciji s godinama. Što je osoba starija, to je razina kreatinina u krvi veća. Imajući ovo na umu, ponovite logističku regresiju sada koristeći serumski kreatinin i dob kao prediktorske varijable. Što očekujete da će se dogoditi s koeficijentom serumskog kreatinina? Hoće li se smanjiti ili povećati? Što se dogodilo s $R^2$ koeficijentom modela?"
      ],
      "metadata": {
        "id": "D28kEev5bYne"
      }
    },
    {
      "cell_type": "code",
      "source": [
        "model_ska = smf.logit(formula='DEATH_EVENT ~ serum_creatinine + age', data=df)\n",
        "res_ska = model_ska.fit()\n",
        "print(res_ska.summary())\n",
        "#koeficijent serumskog kreatinina se smanjio, a R^2 koeficijent modela se povećao"
      ],
      "metadata": {
        "id": "KLuAhfP-bzG3",
        "colab": {
          "base_uri": "https://localhost:8080/"
        },
        "outputId": "a3032e5b-805c-4c86-9d31-2cafebff0cdf"
      },
      "execution_count": null,
      "outputs": [
        {
          "output_type": "stream",
          "name": "stdout",
          "text": [
            "Optimization terminated successfully.\n",
            "         Current function value: 0.558734\n",
            "         Iterations 6\n",
            "                           Logit Regression Results                           \n",
            "==============================================================================\n",
            "Dep. Variable:            DEATH_EVENT   No. Observations:                  299\n",
            "Model:                          Logit   Df Residuals:                      296\n",
            "Method:                           MLE   Df Model:                            2\n",
            "Date:                Tue, 11 Apr 2023   Pseudo R-squ.:                  0.1098\n",
            "Time:                        08:42:20   Log-Likelihood:                -167.06\n",
            "converged:                       True   LL-Null:                       -187.67\n",
            "Covariance Type:            nonrobust   LLR p-value:                 1.117e-09\n",
            "====================================================================================\n",
            "                       coef    std err          z      P>|z|      [0.025      0.975]\n",
            "------------------------------------------------------------------------------------\n",
            "Intercept           -0.7976      0.136     -5.880      0.000      -1.063      -0.532\n",
            "serum_creatinine     0.7384      0.197      3.751      0.000       0.353       1.124\n",
            "age                  0.4847      0.137      3.538      0.000       0.216       0.753\n",
            "====================================================================================\n"
          ]
        }
      ]
    }
  ]
}