{
  "nbformat": 4,
  "nbformat_minor": 0,
  "metadata": {
    "colab": {
      "provenance": []
    },
    "kernelspec": {
      "name": "python3",
      "display_name": "Python 3"
    },
    "language_info": {
      "name": "python"
    }
  },
  "cells": [
    {
      "cell_type": "markdown",
      "source": [
        "# **Laboratorijska vježba 3**: Zadaci za samostalni rad\n",
        "\n",
        "## **Podaci iz popisa stanovništa u SAD-u iz 2015. godine**\n",
        "\n",
        "U ovoj laboratorijskoj vježbi istražit ćemo skup podataka dobiven iz popisa stanovništva 2015. godine u SAD-u. Skup podataka dostupan je u *Data/acs2015_county_data.csv*. \n"
      ],
      "metadata": {
        "id": "SIOX6OjUo0TQ"
      }
    },
    {
      "cell_type": "code",
      "source": [
        "!head Data/acs2015_county_data.csv"
      ],
      "metadata": {
        "colab": {
          "base_uri": "https://localhost:8080/"
        },
        "id": "fGvIvs0tplVn",
        "outputId": "53a45574-ea87-45b4-b0b0-1d4358e4c389"
      },
      "execution_count": null,
      "outputs": [
        {
          "output_type": "stream",
          "name": "stdout",
          "text": [
            "CensusId,State,County,TotalPop,Men,Women,Hispanic,White,Black,Native,Asian,Pacific,Citizen,Income,IncomeErr,IncomePerCap,IncomePerCapErr,Poverty,ChildPoverty,Professional,Service,Office,Construction,Production,Drive,Carpool,Transit,Walk,OtherTransp,WorkAtHome,MeanCommute,Employed,PrivateWork,PublicWork,SelfEmployed,FamilyWork,Unemployment\r\n",
            "1001,Alabama,Autauga,55221,26745,28476,2.6,75.8,18.5,0.4,1.0,0.0,40725,51281.0,2391.0,24974,1080,12.9,18.6,33.2,17.0,24.2,8.6,17.1,87.5,8.8,0.1,0.5,1.3,1.8,26.5,23986,73.6,20.9,5.5,0.0,7.6\r\n",
            "1003,Alabama,Baldwin,195121,95314,99807,4.5,83.1,9.5,0.6,0.7,0.0,147695,50254.0,1263.0,27317,711,13.4,19.2,33.1,17.7,27.1,10.8,11.2,84.7,8.8,0.1,1.0,1.4,3.9,26.4,85953,81.5,12.3,5.8,0.4,7.5\r\n",
            "1005,Alabama,Barbour,26932,14497,12435,4.6,46.2,46.7,0.2,0.4,0.0,20714,32964.0,2973.0,16824,798,26.7,45.3,26.8,16.1,23.1,10.8,23.1,83.8,10.9,0.4,1.8,1.5,1.6,24.1,8597,71.8,20.8,7.3,0.1,17.6\r\n",
            "1007,Alabama,Bibb,22604,12073,10531,2.2,74.5,21.4,0.4,0.1,0.0,17495,38678.0,3995.0,18431,1618,16.8,27.9,21.5,17.9,17.8,19.0,23.7,83.2,13.5,0.5,0.6,1.5,0.7,28.8,8294,76.8,16.1,6.7,0.4,8.3\r\n",
            "1009,Alabama,Blount,57710,28512,29198,8.6,87.9,1.5,0.3,0.1,0.0,42345,45813.0,3141.0,20532,708,16.7,27.2,28.5,14.1,23.9,13.5,19.9,84.9,11.2,0.4,0.9,0.4,2.3,34.9,22189,82.0,13.5,4.2,0.4,7.7\r\n",
            "1011,Alabama,Bullock,10678,5660,5018,4.4,22.2,70.7,1.2,0.2,0.0,8057,31938.0,5884.0,17580,2055,24.6,38.4,18.8,15.0,19.7,20.1,26.4,74.9,14.9,0.7,5.0,1.7,2.8,27.5,3865,79.5,15.1,5.4,0.0,18.0\r\n",
            "1013,Alabama,Butler,20354,9502,10852,1.2,53.3,43.8,0.1,0.4,0.0,15581,32229.0,1793.0,18390,714,25.4,39.2,27.5,16.6,21.9,10.3,23.7,84.5,12.4,0.0,0.8,0.6,1.7,24.6,7813,77.4,16.2,6.2,0.2,10.9\r\n",
            "1015,Alabama,Calhoun,116648,56274,60374,3.5,73.0,20.3,0.2,0.9,0.0,88612,41703.0,925.0,21374,489,20.5,31.6,27.3,17.7,24.2,10.5,20.4,85.3,9.4,0.2,1.2,1.2,2.7,24.1,47401,74.1,20.8,5.0,0.1,12.3\r\n",
            "1017,Alabama,Chambers,34079,16258,17821,0.4,57.3,40.3,0.2,0.8,0.0,26462,34177.0,2949.0,21071,1366,21.6,37.2,23.3,14.5,26.3,11.5,24.4,85.1,11.9,0.2,0.3,0.4,2.1,25.1,13689,85.1,12.1,2.8,0.0,8.9\r\n"
          ]
        }
      ]
    },
    {
      "cell_type": "code",
      "source": [
        "import pandas as pd\n",
        "import pandas as pd\n",
        "import numpy as np\n",
        "import matplotlib.pyplot as plt\n",
        "%matplotlib inline\n",
        "import seaborn as sns\n",
        "import math\n",
        "\n",
        "#load the statistical libraries\n",
        "from statsmodels.stats import diagnostic\n",
        "from scipy import stats"
      ],
      "metadata": {
        "id": "3O06UCc7p6GH"
      },
      "execution_count": null,
      "outputs": []
    },
    {
      "cell_type": "code",
      "source": [
        "data_folder = './Data/'\n",
        "df = pd.read_csv(data_folder + 'acs2015_county_data.csv')"
      ],
      "metadata": {
        "id": "Bg-b-5vTp7jO"
      },
      "execution_count": null,
      "outputs": []
    },
    {
      "cell_type": "code",
      "source": [
        "df.columns"
      ],
      "metadata": {
        "colab": {
          "base_uri": "https://localhost:8080/"
        },
        "id": "ZUyIVzNkp_VV",
        "outputId": "7196ffc0-6ced-475a-8c7e-b34858c766da"
      },
      "execution_count": null,
      "outputs": [
        {
          "output_type": "execute_result",
          "data": {
            "text/plain": [
              "Index(['CensusId', 'State', 'County', 'TotalPop', 'Men', 'Women', 'Hispanic',\n",
              "       'White', 'Black', 'Native', 'Asian', 'Pacific', 'Citizen', 'Income',\n",
              "       'IncomeErr', 'IncomePerCap', 'IncomePerCapErr', 'Poverty',\n",
              "       'ChildPoverty', 'Professional', 'Service', 'Office', 'Construction',\n",
              "       'Production', 'Drive', 'Carpool', 'Transit', 'Walk', 'OtherTransp',\n",
              "       'WorkAtHome', 'MeanCommute', 'Employed', 'PrivateWork', 'PublicWork',\n",
              "       'SelfEmployed', 'FamilyWork', 'Unemployment'],\n",
              "      dtype='object')"
            ]
          },
          "metadata": {},
          "execution_count": 4
        }
      ]
    },
    {
      "cell_type": "markdown",
      "source": [
        "## **Zadatak 1: Izračun deskriptivne statistike i testiranje distribucija**\n",
        "\n",
        "Za numeričke varijable u skupu podataka izračunajte osnovne mjere u okviru deskriptivne statistike. Zatim se fokusirajte na dohodak po stanovniku države (*IncomePerCap*). Koliko u prosjeku zarađuju stanovnici SAD-a? Kolika je medijalna plaća? "
      ],
      "metadata": {
        "id": "OScnozy4qCH_"
      }
    },
    {
      "cell_type": "code",
      "source": [
        "desk=df.describe()\n",
        "print(\"Prosjecna placa: \", df['IncomePerCap'].mean())\n",
        "print(\"Medijalna placa: \", df['IncomePerCap'].median())\n",
        "desk"
      ],
      "metadata": {
        "id": "igEfXmYsqRKQ",
        "colab": {
          "base_uri": "https://localhost:8080/",
          "height": 428
        },
        "outputId": "71990eb0-e0d8-4252-aca0-e9a63807fdb5"
      },
      "execution_count": null,
      "outputs": [
        {
          "output_type": "stream",
          "name": "stdout",
          "text": [
            "Prosjecna placa:  23981.771739130436\n",
            "Medijalna placa:  23460.0\n"
          ]
        },
        {
          "output_type": "execute_result",
          "data": {
            "text/plain": [
              "           CensusId      TotalPop           Men         Women     Hispanic  \\\n",
              "count   3220.000000  3.220000e+03  3.220000e+03  3.220000e+03  3220.000000   \n",
              "mean   31393.605280  9.940935e+04  4.889694e+04  5.051241e+04    11.011522   \n",
              "std    16292.078954  3.193055e+05  1.566813e+05  1.626620e+05    19.241380   \n",
              "min     1001.000000  8.500000e+01  4.200000e+01  4.300000e+01     0.000000   \n",
              "25%    19032.500000  1.121800e+04  5.637250e+03  5.572000e+03     1.900000   \n",
              "50%    30024.000000  2.603500e+04  1.293200e+04  1.305700e+04     3.900000   \n",
              "75%    46105.500000  6.643050e+04  3.299275e+04  3.348750e+04     9.825000   \n",
              "max    72153.000000  1.003839e+07  4.945351e+06  5.093037e+06    99.900000   \n",
              "\n",
              "             White        Black       Native        Asian      Pacific  ...  \\\n",
              "count  3220.000000  3220.000000  3220.000000  3220.000000  3220.000000  ...   \n",
              "mean     75.428789     8.665497     1.723509     1.229068     0.082733  ...   \n",
              "std      22.932890    14.279122     7.253115     2.633079     0.734931  ...   \n",
              "min       0.000000     0.000000     0.000000     0.000000     0.000000  ...   \n",
              "25%      64.100000     0.500000     0.100000     0.200000     0.000000  ...   \n",
              "50%      84.100000     1.900000     0.300000     0.500000     0.000000  ...   \n",
              "75%      93.200000     9.600000     0.600000     1.200000     0.000000  ...   \n",
              "max      99.800000    85.900000    92.100000    41.600000    35.300000  ...   \n",
              "\n",
              "              Walk  OtherTransp   WorkAtHome  MeanCommute      Employed  \\\n",
              "count  3220.000000  3220.000000  3220.000000  3220.000000  3.220000e+03   \n",
              "mean      3.323509     1.612733     4.631770    23.278758  4.559352e+04   \n",
              "std       3.756096     1.670988     3.178772     5.600466  1.496995e+05   \n",
              "min       0.000000     0.000000     0.000000     4.900000  6.200000e+01   \n",
              "25%       1.400000     0.900000     2.700000    19.500000  4.550750e+03   \n",
              "50%       2.400000     1.300000     3.900000    23.000000  1.050800e+04   \n",
              "75%       4.000000     1.900000     5.600000    26.800000  2.863275e+04   \n",
              "max      71.200000    39.100000    37.200000    44.000000  4.635465e+06   \n",
              "\n",
              "       PrivateWork   PublicWork  SelfEmployed   FamilyWork  Unemployment  \n",
              "count  3220.000000  3220.000000   3220.000000  3220.000000   3220.000000  \n",
              "mean     74.219348    17.560870      7.931801     0.288106      8.094441  \n",
              "std       7.863188     6.510354      3.914974     0.455137      4.096114  \n",
              "min      25.000000     5.800000      0.000000     0.000000      0.000000  \n",
              "25%      70.500000    13.100000      5.400000     0.100000      5.500000  \n",
              "50%      75.700000    16.200000      6.900000     0.200000      7.600000  \n",
              "75%      79.700000    20.500000      9.400000     0.300000      9.900000  \n",
              "max      88.300000    66.200000     36.600000     9.800000     36.500000  \n",
              "\n",
              "[8 rows x 35 columns]"
            ],
            "text/html": [
              "\n",
              "  <div id=\"df-374fd98b-6620-4aa5-bbb5-6e9edcabc25c\">\n",
              "    <div class=\"colab-df-container\">\n",
              "      <div>\n",
              "<style scoped>\n",
              "    .dataframe tbody tr th:only-of-type {\n",
              "        vertical-align: middle;\n",
              "    }\n",
              "\n",
              "    .dataframe tbody tr th {\n",
              "        vertical-align: top;\n",
              "    }\n",
              "\n",
              "    .dataframe thead th {\n",
              "        text-align: right;\n",
              "    }\n",
              "</style>\n",
              "<table border=\"1\" class=\"dataframe\">\n",
              "  <thead>\n",
              "    <tr style=\"text-align: right;\">\n",
              "      <th></th>\n",
              "      <th>CensusId</th>\n",
              "      <th>TotalPop</th>\n",
              "      <th>Men</th>\n",
              "      <th>Women</th>\n",
              "      <th>Hispanic</th>\n",
              "      <th>White</th>\n",
              "      <th>Black</th>\n",
              "      <th>Native</th>\n",
              "      <th>Asian</th>\n",
              "      <th>Pacific</th>\n",
              "      <th>...</th>\n",
              "      <th>Walk</th>\n",
              "      <th>OtherTransp</th>\n",
              "      <th>WorkAtHome</th>\n",
              "      <th>MeanCommute</th>\n",
              "      <th>Employed</th>\n",
              "      <th>PrivateWork</th>\n",
              "      <th>PublicWork</th>\n",
              "      <th>SelfEmployed</th>\n",
              "      <th>FamilyWork</th>\n",
              "      <th>Unemployment</th>\n",
              "    </tr>\n",
              "  </thead>\n",
              "  <tbody>\n",
              "    <tr>\n",
              "      <th>count</th>\n",
              "      <td>3220.000000</td>\n",
              "      <td>3.220000e+03</td>\n",
              "      <td>3.220000e+03</td>\n",
              "      <td>3.220000e+03</td>\n",
              "      <td>3220.000000</td>\n",
              "      <td>3220.000000</td>\n",
              "      <td>3220.000000</td>\n",
              "      <td>3220.000000</td>\n",
              "      <td>3220.000000</td>\n",
              "      <td>3220.000000</td>\n",
              "      <td>...</td>\n",
              "      <td>3220.000000</td>\n",
              "      <td>3220.000000</td>\n",
              "      <td>3220.000000</td>\n",
              "      <td>3220.000000</td>\n",
              "      <td>3.220000e+03</td>\n",
              "      <td>3220.000000</td>\n",
              "      <td>3220.000000</td>\n",
              "      <td>3220.000000</td>\n",
              "      <td>3220.000000</td>\n",
              "      <td>3220.000000</td>\n",
              "    </tr>\n",
              "    <tr>\n",
              "      <th>mean</th>\n",
              "      <td>31393.605280</td>\n",
              "      <td>9.940935e+04</td>\n",
              "      <td>4.889694e+04</td>\n",
              "      <td>5.051241e+04</td>\n",
              "      <td>11.011522</td>\n",
              "      <td>75.428789</td>\n",
              "      <td>8.665497</td>\n",
              "      <td>1.723509</td>\n",
              "      <td>1.229068</td>\n",
              "      <td>0.082733</td>\n",
              "      <td>...</td>\n",
              "      <td>3.323509</td>\n",
              "      <td>1.612733</td>\n",
              "      <td>4.631770</td>\n",
              "      <td>23.278758</td>\n",
              "      <td>4.559352e+04</td>\n",
              "      <td>74.219348</td>\n",
              "      <td>17.560870</td>\n",
              "      <td>7.931801</td>\n",
              "      <td>0.288106</td>\n",
              "      <td>8.094441</td>\n",
              "    </tr>\n",
              "    <tr>\n",
              "      <th>std</th>\n",
              "      <td>16292.078954</td>\n",
              "      <td>3.193055e+05</td>\n",
              "      <td>1.566813e+05</td>\n",
              "      <td>1.626620e+05</td>\n",
              "      <td>19.241380</td>\n",
              "      <td>22.932890</td>\n",
              "      <td>14.279122</td>\n",
              "      <td>7.253115</td>\n",
              "      <td>2.633079</td>\n",
              "      <td>0.734931</td>\n",
              "      <td>...</td>\n",
              "      <td>3.756096</td>\n",
              "      <td>1.670988</td>\n",
              "      <td>3.178772</td>\n",
              "      <td>5.600466</td>\n",
              "      <td>1.496995e+05</td>\n",
              "      <td>7.863188</td>\n",
              "      <td>6.510354</td>\n",
              "      <td>3.914974</td>\n",
              "      <td>0.455137</td>\n",
              "      <td>4.096114</td>\n",
              "    </tr>\n",
              "    <tr>\n",
              "      <th>min</th>\n",
              "      <td>1001.000000</td>\n",
              "      <td>8.500000e+01</td>\n",
              "      <td>4.200000e+01</td>\n",
              "      <td>4.300000e+01</td>\n",
              "      <td>0.000000</td>\n",
              "      <td>0.000000</td>\n",
              "      <td>0.000000</td>\n",
              "      <td>0.000000</td>\n",
              "      <td>0.000000</td>\n",
              "      <td>0.000000</td>\n",
              "      <td>...</td>\n",
              "      <td>0.000000</td>\n",
              "      <td>0.000000</td>\n",
              "      <td>0.000000</td>\n",
              "      <td>4.900000</td>\n",
              "      <td>6.200000e+01</td>\n",
              "      <td>25.000000</td>\n",
              "      <td>5.800000</td>\n",
              "      <td>0.000000</td>\n",
              "      <td>0.000000</td>\n",
              "      <td>0.000000</td>\n",
              "    </tr>\n",
              "    <tr>\n",
              "      <th>25%</th>\n",
              "      <td>19032.500000</td>\n",
              "      <td>1.121800e+04</td>\n",
              "      <td>5.637250e+03</td>\n",
              "      <td>5.572000e+03</td>\n",
              "      <td>1.900000</td>\n",
              "      <td>64.100000</td>\n",
              "      <td>0.500000</td>\n",
              "      <td>0.100000</td>\n",
              "      <td>0.200000</td>\n",
              "      <td>0.000000</td>\n",
              "      <td>...</td>\n",
              "      <td>1.400000</td>\n",
              "      <td>0.900000</td>\n",
              "      <td>2.700000</td>\n",
              "      <td>19.500000</td>\n",
              "      <td>4.550750e+03</td>\n",
              "      <td>70.500000</td>\n",
              "      <td>13.100000</td>\n",
              "      <td>5.400000</td>\n",
              "      <td>0.100000</td>\n",
              "      <td>5.500000</td>\n",
              "    </tr>\n",
              "    <tr>\n",
              "      <th>50%</th>\n",
              "      <td>30024.000000</td>\n",
              "      <td>2.603500e+04</td>\n",
              "      <td>1.293200e+04</td>\n",
              "      <td>1.305700e+04</td>\n",
              "      <td>3.900000</td>\n",
              "      <td>84.100000</td>\n",
              "      <td>1.900000</td>\n",
              "      <td>0.300000</td>\n",
              "      <td>0.500000</td>\n",
              "      <td>0.000000</td>\n",
              "      <td>...</td>\n",
              "      <td>2.400000</td>\n",
              "      <td>1.300000</td>\n",
              "      <td>3.900000</td>\n",
              "      <td>23.000000</td>\n",
              "      <td>1.050800e+04</td>\n",
              "      <td>75.700000</td>\n",
              "      <td>16.200000</td>\n",
              "      <td>6.900000</td>\n",
              "      <td>0.200000</td>\n",
              "      <td>7.600000</td>\n",
              "    </tr>\n",
              "    <tr>\n",
              "      <th>75%</th>\n",
              "      <td>46105.500000</td>\n",
              "      <td>6.643050e+04</td>\n",
              "      <td>3.299275e+04</td>\n",
              "      <td>3.348750e+04</td>\n",
              "      <td>9.825000</td>\n",
              "      <td>93.200000</td>\n",
              "      <td>9.600000</td>\n",
              "      <td>0.600000</td>\n",
              "      <td>1.200000</td>\n",
              "      <td>0.000000</td>\n",
              "      <td>...</td>\n",
              "      <td>4.000000</td>\n",
              "      <td>1.900000</td>\n",
              "      <td>5.600000</td>\n",
              "      <td>26.800000</td>\n",
              "      <td>2.863275e+04</td>\n",
              "      <td>79.700000</td>\n",
              "      <td>20.500000</td>\n",
              "      <td>9.400000</td>\n",
              "      <td>0.300000</td>\n",
              "      <td>9.900000</td>\n",
              "    </tr>\n",
              "    <tr>\n",
              "      <th>max</th>\n",
              "      <td>72153.000000</td>\n",
              "      <td>1.003839e+07</td>\n",
              "      <td>4.945351e+06</td>\n",
              "      <td>5.093037e+06</td>\n",
              "      <td>99.900000</td>\n",
              "      <td>99.800000</td>\n",
              "      <td>85.900000</td>\n",
              "      <td>92.100000</td>\n",
              "      <td>41.600000</td>\n",
              "      <td>35.300000</td>\n",
              "      <td>...</td>\n",
              "      <td>71.200000</td>\n",
              "      <td>39.100000</td>\n",
              "      <td>37.200000</td>\n",
              "      <td>44.000000</td>\n",
              "      <td>4.635465e+06</td>\n",
              "      <td>88.300000</td>\n",
              "      <td>66.200000</td>\n",
              "      <td>36.600000</td>\n",
              "      <td>9.800000</td>\n",
              "      <td>36.500000</td>\n",
              "    </tr>\n",
              "  </tbody>\n",
              "</table>\n",
              "<p>8 rows × 35 columns</p>\n",
              "</div>\n",
              "      <button class=\"colab-df-convert\" onclick=\"convertToInteractive('df-374fd98b-6620-4aa5-bbb5-6e9edcabc25c')\"\n",
              "              title=\"Convert this dataframe to an interactive table.\"\n",
              "              style=\"display:none;\">\n",
              "        \n",
              "  <svg xmlns=\"http://www.w3.org/2000/svg\" height=\"24px\"viewBox=\"0 0 24 24\"\n",
              "       width=\"24px\">\n",
              "    <path d=\"M0 0h24v24H0V0z\" fill=\"none\"/>\n",
              "    <path d=\"M18.56 5.44l.94 2.06.94-2.06 2.06-.94-2.06-.94-.94-2.06-.94 2.06-2.06.94zm-11 1L8.5 8.5l.94-2.06 2.06-.94-2.06-.94L8.5 2.5l-.94 2.06-2.06.94zm10 10l.94 2.06.94-2.06 2.06-.94-2.06-.94-.94-2.06-.94 2.06-2.06.94z\"/><path d=\"M17.41 7.96l-1.37-1.37c-.4-.4-.92-.59-1.43-.59-.52 0-1.04.2-1.43.59L10.3 9.45l-7.72 7.72c-.78.78-.78 2.05 0 2.83L4 21.41c.39.39.9.59 1.41.59.51 0 1.02-.2 1.41-.59l7.78-7.78 2.81-2.81c.8-.78.8-2.07 0-2.86zM5.41 20L4 18.59l7.72-7.72 1.47 1.35L5.41 20z\"/>\n",
              "  </svg>\n",
              "      </button>\n",
              "      \n",
              "  <style>\n",
              "    .colab-df-container {\n",
              "      display:flex;\n",
              "      flex-wrap:wrap;\n",
              "      gap: 12px;\n",
              "    }\n",
              "\n",
              "    .colab-df-convert {\n",
              "      background-color: #E8F0FE;\n",
              "      border: none;\n",
              "      border-radius: 50%;\n",
              "      cursor: pointer;\n",
              "      display: none;\n",
              "      fill: #1967D2;\n",
              "      height: 32px;\n",
              "      padding: 0 0 0 0;\n",
              "      width: 32px;\n",
              "    }\n",
              "\n",
              "    .colab-df-convert:hover {\n",
              "      background-color: #E2EBFA;\n",
              "      box-shadow: 0px 1px 2px rgba(60, 64, 67, 0.3), 0px 1px 3px 1px rgba(60, 64, 67, 0.15);\n",
              "      fill: #174EA6;\n",
              "    }\n",
              "\n",
              "    [theme=dark] .colab-df-convert {\n",
              "      background-color: #3B4455;\n",
              "      fill: #D2E3FC;\n",
              "    }\n",
              "\n",
              "    [theme=dark] .colab-df-convert:hover {\n",
              "      background-color: #434B5C;\n",
              "      box-shadow: 0px 1px 3px 1px rgba(0, 0, 0, 0.15);\n",
              "      filter: drop-shadow(0px 1px 2px rgba(0, 0, 0, 0.3));\n",
              "      fill: #FFFFFF;\n",
              "    }\n",
              "  </style>\n",
              "\n",
              "      <script>\n",
              "        const buttonEl =\n",
              "          document.querySelector('#df-374fd98b-6620-4aa5-bbb5-6e9edcabc25c button.colab-df-convert');\n",
              "        buttonEl.style.display =\n",
              "          google.colab.kernel.accessAllowed ? 'block' : 'none';\n",
              "\n",
              "        async function convertToInteractive(key) {\n",
              "          const element = document.querySelector('#df-374fd98b-6620-4aa5-bbb5-6e9edcabc25c');\n",
              "          const dataTable =\n",
              "            await google.colab.kernel.invokeFunction('convertToInteractive',\n",
              "                                                     [key], {});\n",
              "          if (!dataTable) return;\n",
              "\n",
              "          const docLinkHtml = 'Like what you see? Visit the ' +\n",
              "            '<a target=\"_blank\" href=https://colab.research.google.com/notebooks/data_table.ipynb>data table notebook</a>'\n",
              "            + ' to learn more about interactive tables.';\n",
              "          element.innerHTML = '';\n",
              "          dataTable['output_type'] = 'display_data';\n",
              "          await google.colab.output.renderOutput(dataTable, element);\n",
              "          const docLink = document.createElement('div');\n",
              "          docLink.innerHTML = docLinkHtml;\n",
              "          element.appendChild(docLink);\n",
              "        }\n",
              "      </script>\n",
              "    </div>\n",
              "  </div>\n",
              "  "
            ]
          },
          "metadata": {},
          "execution_count": 32
        }
      ]
    },
    {
      "cell_type": "markdown",
      "source": [
        "Pokušajte steći dublji uvid u prihod po stanovniku. Može li se prepoznati distribucija iz koje potječi ovi podaci? Potkrijepite Vaš zaključak grafičkom metodom i rezultatima statističkog testa."
      ],
      "metadata": {
        "id": "bDBpBq0LrCh2"
      }
    },
    {
      "cell_type": "code",
      "source": [
        "income=diagnostic.kstest_normal(df['IncomePerCap'], dist='norm')\n",
        "plt.hist(df['IncomePerCap'], bins=10)\n",
        "print(income)\n",
        "#p-vrijednost testa je manja od 0.05 pa s pouzdanošću od 95% odbacujemo nultu \n",
        "#hipotezu da podaci potječu iz normalne distribucije"
      ],
      "metadata": {
        "id": "bKMFtGPsrYtn",
        "colab": {
          "base_uri": "https://localhost:8080/",
          "height": 283
        },
        "outputId": "22b5d400-5105-44a9-ad55-11c56a2ddf2b"
      },
      "execution_count": null,
      "outputs": [
        {
          "output_type": "stream",
          "name": "stdout",
          "text": [
            "(0.0637621121184162, 0.0009999999999998899)\n"
          ]
        },
        {
          "output_type": "display_data",
          "data": {
            "text/plain": [
              "<Figure size 432x288 with 1 Axes>"
            ],
            "image/png": "[encoded data removed]"
          },
          "metadata": {
            "needs_background": "light"
          }
        }
      ]
    },
    {
      "cell_type": "markdown",
      "source": [
        "Izračunajte osnovne mjere u okviru deskriptivne statistike za broj stanovnika države (*TotalPop*) te prokomentirajte dobivene rezultate."
      ],
      "metadata": {
        "id": "1BUpMvk5sECu"
      }
    },
    {
      "cell_type": "code",
      "source": [
        "df['TotalPop'].describe()\n",
        "#za 3220 unosa, srednja vrijednost populacije je 99409 stanovnika sa standardnom devijacijom od 319305 stanovnika\n",
        "#minimalan broj stanovnika je 85, a maksimalan 10038390  "
      ],
      "metadata": {
        "id": "i4wmEVvcsMKt",
        "colab": {
          "base_uri": "https://localhost:8080/"
        },
        "outputId": "af6b8309-7eb3-42a6-b306-daa930a16bd9"
      },
      "execution_count": null,
      "outputs": [
        {
          "output_type": "execute_result",
          "data": {
            "text/plain": [
              "count    3.220000e+03\n",
              "mean     9.940935e+04\n",
              "std      3.193055e+05\n",
              "min      8.500000e+01\n",
              "25%      1.121800e+04\n",
              "50%      2.603500e+04\n",
              "75%      6.643050e+04\n",
              "max      1.003839e+07\n",
              "Name: TotalPop, dtype: float64"
            ]
          },
          "metadata": {},
          "execution_count": 18
        }
      ]
    },
    {
      "cell_type": "markdown",
      "source": [
        "Pokušajte steći dublji uvid u broj stanovnika. Može li se prepoznati distribucija iz koje potječu ovi podaci? Potkrijepite Vaš zaključak grafičkom metodom i rezultatima statističkog testa."
      ],
      "metadata": {
        "id": "8TLicrlzsQs-"
      }
    },
    {
      "cell_type": "code",
      "source": [
        "pop=diagnostic.kstest_normal(df['TotalPop'], dist='norm')\n",
        "plt.hist(df['TotalPop'], bins=10)\n",
        "print(pop)\n",
        "#p-vrijednost testa je manja od 0.05 pa s pouzdanošću od 95% odbacujemo nultu \n",
        "#hipotezu da podaci potječu iz normalne distribucije"
      ],
      "metadata": {
        "id": "QmEByV10sZrW",
        "colab": {
          "base_uri": "https://localhost:8080/",
          "height": 295
        },
        "outputId": "dde4dd73-158f-41f0-df6e-e205841904cb"
      },
      "execution_count": null,
      "outputs": [
        {
          "output_type": "stream",
          "name": "stdout",
          "text": [
            "(0.37787608613878587, 0.0009999999999998899)\n"
          ]
        },
        {
          "output_type": "display_data",
          "data": {
            "text/plain": [
              "<Figure size 432x288 with 1 Axes>"
            ],
            "image/png": "[encoded data removed]"
          },
          "metadata": {
            "needs_background": "light"
          }
        }
      ]
    },
    {
      "cell_type": "markdown",
      "source": [
        "## **Zadatak 2: Ispitivanje odnosa između dvije varijable**\n",
        "\n",
        "Pokušajte odgovoriti na pitanje je li dohodak po stanovniku države u korelaciji s nezaposlenošću. Ispitajte i linearnu i monotonu korelaciju."
      ],
      "metadata": {
        "id": "6wA3OPzdtxzV"
      }
    },
    {
      "cell_type": "code",
      "source": [
        "stats.pearsonr(df['IncomePerCap'],df['Unemployment'])"
      ],
      "metadata": {
        "id": "uRSuDK21uQ9l",
        "colab": {
          "base_uri": "https://localhost:8080/"
        },
        "outputId": "fa8ac637-2798-44af-bf92-81a5a7b3cdec"
      },
      "execution_count": null,
      "outputs": [
        {
          "output_type": "execute_result",
          "data": {
            "text/plain": [
              "PearsonRResult(statistic=-0.5475960044237943, pvalue=2.043834312917008e-251)"
            ]
          },
          "metadata": {},
          "execution_count": 24
        }
      ]
    },
    {
      "cell_type": "code",
      "source": [
        "stats.spearmanr(df['IncomePerCap'],df['Unemployment'])"
      ],
      "metadata": {
        "colab": {
          "base_uri": "https://localhost:8080/"
        },
        "id": "bNyvrfAQ_2GT",
        "outputId": "b8b66c58-0f56-4ee4-c7bf-22444d393c2a"
      },
      "execution_count": null,
      "outputs": [
        {
          "output_type": "execute_result",
          "data": {
            "text/plain": [
              "SignificanceResult(statistic=-0.5610346008485645, pvalue=1.861766816019713e-266)"
            ]
          },
          "metadata": {},
          "execution_count": 25
        }
      ]
    },
    {
      "cell_type": "markdown",
      "source": [
        "Dohodak po stanovniku je u negativnoj srednjoj korelaciji s nezaposlenošću. "
      ],
      "metadata": {
        "id": "PCUUnE-8A6fC"
      }
    },
    {
      "cell_type": "markdown",
      "source": [
        "## **Zadatak 3: Testiranje hipoteza**\n",
        "\n",
        "Zarađuju li stanovnici države New York više od stanovnika države Kalifornija? Pokušajte dati odgovor na ovo pitanje pomoću deskriptivne statistike."
      ],
      "metadata": {
        "id": "r8KFGmUYuSiV"
      }
    },
    {
      "cell_type": "code",
      "source": [
        "ny=df[df['State']=='New York']['IncomePerCap'].describe()\n",
        "ca=df[df['State']=='California']['IncomePerCap'].describe()\n",
        "print(\"New York: \", ny)\n",
        "print()\n",
        "print(\"California: \", ca)\n",
        "#po srednjoj vrijednosti stanovnici države New York zarađuju malo više od stanovnika države Kalifornija\n",
        "#i minimalna i maksimalna plaća stanovnika države Kalifornija su manje od plaća stanovnika države New York\n",
        "#medijalna plaća stanovnika države Kalifornija je veća od stanovnika države New York\n",
        "#možemo zaključiti da nema znatne razlike u zaradi"
      ],
      "metadata": {
        "id": "9Zr9QSFLunEn",
        "colab": {
          "base_uri": "https://localhost:8080/"
        },
        "outputId": "0ad2ea8c-c732-4f37-f780-d8ee4e20ad2e"
      },
      "execution_count": null,
      "outputs": [
        {
          "output_type": "stream",
          "name": "stdout",
          "text": [
            "New York:  count       62.000000\n",
            "mean     28189.758065\n",
            "std       7196.801210\n",
            "min      18456.000000\n",
            "25%      24255.750000\n",
            "50%      25891.000000\n",
            "75%      30319.250000\n",
            "max      64993.000000\n",
            "Name: IncomePerCap, dtype: float64\n",
            "\n",
            "California:  count       58.000000\n",
            "mean     27902.603448\n",
            "std       8672.312531\n",
            "min      16143.000000\n",
            "25%      21409.000000\n",
            "50%      27146.500000\n",
            "75%      31214.500000\n",
            "max      60236.000000\n",
            "Name: IncomePerCap, dtype: float64\n"
          ]
        }
      ]
    },
    {
      "cell_type": "markdown",
      "source": [
        "Kako bi potkrijepili dobivene zaključke, provedite testiranje hipoteza. Neka nulta hipoteza pretpostavlja da nema statistički značajne razlike u dohotku stanovnika ovih država. Testirajte hipotezu pomoću dvostranog t-testa (*two-sided t-test*). Prokomentirajte dobivenu $p$-vrijednost te donesite zaključak."
      ],
      "metadata": {
        "id": "OLt7u6QKuoZm"
      }
    },
    {
      "cell_type": "code",
      "source": [
        "ny_income=df[df['State']=='New York']['IncomePerCap']\n",
        "ca_income=df[df['State']=='California']['IncomePerCap']\n",
        "stats.ttest_ind(a=ny_income, b=ca_income, equal_var=True)\n",
        "#s obzirom da je p-vrijednost (0.84) veća od 0.05, nultu hipotezu da nema značajne razlike u dohotku\n",
        "#stanovnika ovih država ne odbacujemo"
      ],
      "metadata": {
        "id": "XW2oCWvBvGqe",
        "colab": {
          "base_uri": "https://localhost:8080/"
        },
        "outputId": "6475e36a-4c65-4b58-a135-7d95dcf465c9"
      },
      "execution_count": null,
      "outputs": [
        {
          "output_type": "execute_result",
          "data": {
            "text/plain": [
              "Ttest_indResult(statistic=0.19788117232375713, pvalue=0.8434785239169611)"
            ]
          },
          "metadata": {},
          "execution_count": 33
        }
      ]
    },
    {
      "cell_type": "markdown",
      "source": [
        "## **Zadatak 4: Kvantificiranje nesigurnosti**\n",
        "\n",
        "Ponovno promotrimo pitanje zarađuju li stanovnici države New York više od stanovnika države Kalifornija. Ovaj put pokušajte odgovoriti na pitanje pomoću intervala pouzdanosti s razinom pouzdanosti od 95%. Uz izračun, vizualizirajte intervale pouzdanosti na stupčastim dijagramima. \n",
        "Pomoć: provjerite preklapaju li se intervali za ove države."
      ],
      "metadata": {
        "id": "abB88OPUvJXN"
      }
    },
    {
      "cell_type": "code",
      "source": [
        "ny_res=stats.t.interval(confidence=0.95, df=len(ny_income)-1, loc=np.mean(ny_income), scale=stats.sem(ny_income))\n",
        "ca_res=stats.t.interval(confidence=0.95, df=len(ca_income)-1, loc=np.mean(ca_income), scale=stats.sem(ca_income))\n",
        "print(ny_res)\n",
        "print(ca_res)\n",
        "\n",
        "x = pd.DataFrame([['NY', ny_res[0], ny_res[1]],['CA', ca_res[0], ca_res[1]]], columns=['Group', 'Mean', 'SD'])\n",
        "\n",
        "ax = sns.barplot(data=x, x='Group', y='Mean', color='dodgerblue')\n",
        "ax.errorbar(data=x, x='Group', y='Mean', yerr='SD', ls='', lw=3, color='black')\n",
        "plt.show()\n",
        "\n",
        "#intervali se preklapaju"
      ],
      "metadata": {
        "id": "1cvoBHOlv8Rd",
        "colab": {
          "base_uri": "https://localhost:8080/",
          "height": 314
        },
        "outputId": "0ff12333-b300-4b6a-d671-080f82b2e04d"
      },
      "execution_count": null,
      "outputs": [
        {
          "output_type": "stream",
          "name": "stdout",
          "text": [
            "(26362.11277119949, 30017.40335783277)\n",
            "(25622.335110090782, 30182.871786460943)\n"
          ]
        },
        {
          "output_type": "display_data",
          "data": {
            "text/plain": [
              "<Figure size 432x288 with 1 Axes>"
            ],
            "image/png": "[encoded data removed]"
          },
          "metadata": {
            "needs_background": "light"
          }
        }
      ]
    },
    {
      "cell_type": "markdown",
      "source": [
        "## **Zadatak 5: Jačanje gospodarstva poticanjem samozapošljavanja**\n",
        "\n",
        "Pretpostavimo da je najveći prioritet lokalne uprave u 2018. godini povećanje dohotka po glavi stanovnika. U tu svrhu, dužnosnici planiraju usvojiti strategiju poticanja samozapošljavanja kroz niz kampanja, obrazovnih programa i namjenskih sredstava.\n",
        "\n",
        "Budući da je neetično i nemoguće u ovom okruženju provoditi kontrolirani eksperiment koji uključuje građane (primjerice, otpustiti zaposlenike i prisiliti ih na samozapošljavanje), dužnosnici su od Vas zatražili da utvrdite učinak samozapošljavanja na gospodarstva, oslanjajući se na podatke iz danog skupa podataka."
      ],
      "metadata": {
        "id": "YYrfZvxCv-BW"
      }
    },
    {
      "cell_type": "markdown",
      "source": [
        "Koristeći odgovarajuće grafičke i statističke metode, odredite i kvantificirajte vezu između postotka samozaposlenih građana (*SelfEmployed*) i dohotka po glavi stanovnika u svih 3212 država SAD-a. Zarađuju li građani u državama koje imaju veći postotak samozaposlenih više po glavi stanovnika?"
      ],
      "metadata": {
        "id": "H-_2YLcBwiMC"
      }
    },
    {
      "cell_type": "code",
      "source": [
        "\n",
        "plt.scatter(df['SelfEmployed'], df['IncomePerCap'], marker='.')\n",
        "print(stats.pearsonr(df['SelfEmployed'],df['IncomePerCap']))"
      ],
      "metadata": {
        "id": "ASwCyjF0wyW-",
        "colab": {
          "base_uri": "https://localhost:8080/",
          "height": 282
        },
        "outputId": "b529136b-1d76-4a61-e0dd-a1787960a6fe"
      },
      "execution_count": null,
      "outputs": [
        {
          "output_type": "stream",
          "name": "stdout",
          "text": [
            "PearsonRResult(statistic=0.08727386609551786, pvalue=7.052861196524553e-07)\n"
          ]
        },
        {
          "output_type": "display_data",
          "data": {
            "text/plain": [
              "<Figure size 432x288 with 1 Axes>"
            ],
            "image/png": "[encoded data removed]"
          },
          "metadata": {
            "needs_background": "light"
          }
        }
      ]
    },
    {
      "cell_type": "markdown",
      "source": [
        "Pilot program ove strategije zahvatit će sve okruge unutar ograničenog skupa od tri države. Skup A uključuje Wisconsin, Tennessee i Minnesotu. Kvantificirajte ovisnost dohotka po glavi stanovnika o stopama samozapošljavanja u skupu A."
      ],
      "metadata": {
        "id": "E-daFr46w5YV"
      }
    },
    {
      "cell_type": "code",
      "source": [
        "skup_A=df[(df['State']=='Wisconsin') | (df['State']=='Tennessee') | (df['State']=='Minnesota')]\n",
        "plt.scatter(skup_A['SelfEmployed'], skup_A['IncomePerCap'], marker='.')\n",
        "print(stats.pearsonr(skup_A['SelfEmployed'],skup_A['IncomePerCap']))"
      ],
      "metadata": {
        "colab": {
          "base_uri": "https://localhost:8080/",
          "height": 282
        },
        "id": "FRCV-h76ON2M",
        "outputId": "bc540924-6a95-4ddc-9b65-43e097508fa0"
      },
      "execution_count": null,
      "outputs": [
        {
          "output_type": "stream",
          "name": "stdout",
          "text": [
            "PearsonRResult(statistic=-0.202293507365215, pvalue=0.0011881639322138561)\n"
          ]
        },
        {
          "output_type": "display_data",
          "data": {
            "text/plain": [
              "<Figure size 432x288 with 1 Axes>"
            ],
            "image/png": "[encoded data removed]"
          },
          "metadata": {
            "needs_background": "light"
          }
        }
      ]
    },
    {
      "cell_type": "code",
      "source": [
        "win=df[df['State']=='Wisconsin']\n",
        "\n",
        "plt.scatter(win['SelfEmployed'], win['IncomePerCap'], marker='.')\n",
        "print(stats.pearsonr(win['SelfEmployed'],win['IncomePerCap']))"
      ],
      "metadata": {
        "id": "V2WZtaJMxLWm",
        "colab": {
          "base_uri": "https://localhost:8080/",
          "height": 282
        },
        "outputId": "1484053e-9087-49ca-c642-7ae81ae77576"
      },
      "execution_count": null,
      "outputs": [
        {
          "output_type": "stream",
          "name": "stdout",
          "text": [
            "PearsonRResult(statistic=-0.32905300016378525, pvalue=0.004768134887745218)\n"
          ]
        },
        {
          "output_type": "display_data",
          "data": {
            "text/plain": [
              "<Figure size 432x288 with 1 Axes>"
            ],
            "image/png": "[encoded data removed]"
          },
          "metadata": {
            "needs_background": "light"
          }
        }
      ]
    },
    {
      "cell_type": "code",
      "source": [
        "ten=df[df['State']=='Tennessee']\n",
        "\n",
        "plt.scatter(ten['SelfEmployed'], ten['IncomePerCap'], marker='.')\n",
        "print(stats.pearsonr(ten['SelfEmployed'],ten['IncomePerCap']))"
      ],
      "metadata": {
        "colab": {
          "base_uri": "https://localhost:8080/",
          "height": 282
        },
        "id": "90HrizQtJ_lM",
        "outputId": "428cc2e6-404e-40b3-ea9c-77c132f19666"
      },
      "execution_count": null,
      "outputs": [
        {
          "output_type": "stream",
          "name": "stdout",
          "text": [
            "PearsonRResult(statistic=-0.23836048684913153, pvalue=0.020011631955528172)\n"
          ]
        },
        {
          "output_type": "display_data",
          "data": {
            "text/plain": [
              "<Figure size 432x288 with 1 Axes>"
            ],
            "image/png": "[encoded data removed]"
          },
          "metadata": {
            "needs_background": "light"
          }
        }
      ]
    },
    {
      "cell_type": "code",
      "source": [
        "min=df[df['State']=='Minnesota']\n",
        "\n",
        "plt.scatter(min['SelfEmployed'], min['IncomePerCap'], marker='.')\n",
        "print(stats.pearsonr(min['SelfEmployed'],min['IncomePerCap']))"
      ],
      "metadata": {
        "colab": {
          "base_uri": "https://localhost:8080/",
          "height": 282
        },
        "id": "SLwLE30cKMdC",
        "outputId": "bde3184f-8caa-4143-ac90-f4b36668c0c6"
      },
      "execution_count": null,
      "outputs": [
        {
          "output_type": "stream",
          "name": "stdout",
          "text": [
            "PearsonRResult(statistic=-0.2538551921654062, pvalue=0.017665199300911944)\n"
          ]
        },
        {
          "output_type": "display_data",
          "data": {
            "text/plain": [
              "<Figure size 432x288 with 1 Axes>"
            ],
            "image/png": "[encoded data removed]"
          },
          "metadata": {
            "needs_background": "light"
          }
        }
      ]
    },
    {
      "cell_type": "markdown",
      "source": [
        "U kojoj je državi unutar skupa A opaženi učinak samozapošljavanja na dohodak po glavi stanovnika najjači? Je li ovaj učinak pozitivan ili negativan?"
      ],
      "metadata": {
        "id": "D6DK3LO-xOJu"
      }
    },
    {
      "cell_type": "code",
      "source": [
        "# u sve tri države opažen je negativan učinak, a najveći je učinak za državu Wisconsin \n",
        "# iako se ne razlikuje znatno od ostala dva "
      ],
      "metadata": {
        "id": "cJun3ZYjxVpW"
      },
      "execution_count": null,
      "outputs": []
    },
    {
      "cell_type": "markdown",
      "source": [
        "Skup B uključuje države New Jersey, Kansas i Rhode Island. Ponovite analizu iz prijašnjih koraka, ali sada za skup B. U kojem biste od dva skupa A i B preporučili poticanje samozapošljavanja? Objasnite svoje razmišljanje. Što zamjećujete kad u oba skupa promatrate korelaciju unutar svake pojedine države, a što kada promatrate korelaciju za države u cjelini?"
      ],
      "metadata": {
        "id": "c7O5Ksd5xYqu"
      }
    },
    {
      "cell_type": "code",
      "source": [
        "skup_B=df[(df['State']=='New Jersey') | (df['State']=='Kansas') | (df['State']=='Rhode Island')]\n",
        "plt.scatter(skup_B['SelfEmployed'], skup_B['IncomePerCap'], marker='.')\n",
        "print(stats.pearsonr(skup_B['SelfEmployed'],skup_B['IncomePerCap']))"
      ],
      "metadata": {
        "colab": {
          "base_uri": "https://localhost:8080/",
          "height": 282
        },
        "id": "0wOgJyVvQnLj",
        "outputId": "c6d9f03c-099c-4677-bd5a-5c0ac1efd0ad"
      },
      "execution_count": null,
      "outputs": [
        {
          "output_type": "stream",
          "name": "stdout",
          "text": [
            "PearsonRResult(statistic=-0.2322214134608569, pvalue=0.007607493042857383)\n"
          ]
        },
        {
          "output_type": "display_data",
          "data": {
            "text/plain": [
              "<Figure size 432x288 with 1 Axes>"
            ],
            "image/png": "[encoded data removed]"
          },
          "metadata": {
            "needs_background": "light"
          }
        }
      ]
    },
    {
      "cell_type": "code",
      "source": [
        "new=df[df['State']=='New Jersey']\n",
        "\n",
        "plt.scatter(new['SelfEmployed'], new['IncomePerCap'], marker='.')\n",
        "print(stats.pearsonr(new['SelfEmployed'],new['IncomePerCap']))"
      ],
      "metadata": {
        "id": "Q5BesEmWy-_1",
        "colab": {
          "base_uri": "https://localhost:8080/",
          "height": 282
        },
        "outputId": "8e9649ae-b6cf-4122-b580-b14b6ab1b49c"
      },
      "execution_count": null,
      "outputs": [
        {
          "output_type": "stream",
          "name": "stdout",
          "text": [
            "PearsonRResult(statistic=0.48044784713362815, pvalue=0.027488944757806215)\n"
          ]
        },
        {
          "output_type": "display_data",
          "data": {
            "text/plain": [
              "<Figure size 432x288 with 1 Axes>"
            ],
            "image/png": "[encoded data removed]"
          },
          "metadata": {
            "needs_background": "light"
          }
        }
      ]
    },
    {
      "cell_type": "code",
      "source": [
        "kan=df[df['State']=='Kansas']\n",
        "\n",
        "plt.scatter(kan['SelfEmployed'], kan['IncomePerCap'], marker='.')\n",
        "print(stats.pearsonr(kan['SelfEmployed'],kan['IncomePerCap']))"
      ],
      "metadata": {
        "colab": {
          "base_uri": "https://localhost:8080/",
          "height": 282
        },
        "id": "ATQ8HF52LXLk",
        "outputId": "7091e38b-c32c-4f89-f325-76402770c9df"
      },
      "execution_count": null,
      "outputs": [
        {
          "output_type": "stream",
          "name": "stdout",
          "text": [
            "PearsonRResult(statistic=0.25810299714436924, pvalue=0.007853351846832413)\n"
          ]
        },
        {
          "output_type": "display_data",
          "data": {
            "text/plain": [
              "<Figure size 432x288 with 1 Axes>"
            ],
            "image/png": "[encoded data removed]"
          },
          "metadata": {
            "needs_background": "light"
          }
        }
      ]
    },
    {
      "cell_type": "code",
      "source": [
        "rhi=df[df['State']=='Rhode Island']\n",
        "\n",
        "plt.scatter(rhi['SelfEmployed'], rhi['IncomePerCap'], marker='.')\n",
        "print(stats.pearsonr(rhi['SelfEmployed'],rhi['IncomePerCap']))"
      ],
      "metadata": {
        "colab": {
          "base_uri": "https://localhost:8080/",
          "height": 282
        },
        "id": "zp5wvuQHLlsq",
        "outputId": "41b9048a-5f6d-45dc-d130-72664964e580"
      },
      "execution_count": null,
      "outputs": [
        {
          "output_type": "stream",
          "name": "stdout",
          "text": [
            "PearsonRResult(statistic=0.9021788382149803, pvalue=0.0361831020157593)\n"
          ]
        },
        {
          "output_type": "display_data",
          "data": {
            "text/plain": [
              "<Figure size 432x288 with 1 Axes>"
            ],
            "image/png": "[encoded data removed]"
          },
          "metadata": {
            "needs_background": "light"
          }
        }
      ]
    },
    {
      "cell_type": "code",
      "source": [
        "# najveći je učinak zapažen u državi Rhode Island s pozitivnom jakom korelacijom između samozapošljavanja i dohotka po stanovniku \n",
        "\n",
        "# preporučila bih samozapošljavanje u skupu B jer je korelacija pozitivna\n",
        "\n",
        "# primjećujem da ako gledamo korelaciju za cijeli skup tada ne bih preporučila zapošljavanje, ali ako gledam posebno za svaku državu preporučila bih samozapošljavanje"
      ],
      "metadata": {
        "id": "RZjBqzG5MA30"
      },
      "execution_count": null,
      "outputs": []
    },
    {
      "cell_type": "code",
      "source": [
        "\n",
        "\n",
        "\n",
        "\n",
        "\n",
        "\n",
        "\n",
        "\n",
        "\n",
        "\n",
        "\n",
        "\n",
        "\n",
        "\n",
        "\n",
        "\n",
        "\n",
        "\n",
        "\n",
        "svm_poly2 = SVC(kernel='poly', degree=2, random_state=1)\n",
        "svm_poly2.fit(X_train, y_train)\n",
        "\n",
        "\n",
        "\n",
        "\n",
        "\n",
        "# SVM s polinomijalnom jezgrom stupnja 2\n",
        "y_train_pred_poly2 = svm_poly2.predict(X_train)\n",
        "y_test_pred_poly2 = svm_poly2.predict(X_test)\n",
        "\n",
        "print('SVM s polinomijalnom jezgrom stupnja 2:')\n",
        "print('Train CAC:', accuracy_score(y_train, y_train_pred_poly2))\n",
        "print('Test CAC:', accuracy_score(y_test, y_test_pred_poly2))\n",
        "print('Train Precision:', precision_score(y_train, y_train_pred_poly2))\n",
        "print('Test Precision:', precision_score(y_test, y_test_pred_poly2))\n",
        "print('Train Recall:', recall_score(y_train, y_train_pred_poly2))\n",
        "print('Test Recall:', recall_score(y_test, y_test_pred_poly2))\n",
        "print('Train F1:', f1_score(y_train, y_train_pred_poly2))\n",
        "print('Test F1:', f1_score(y_test, y_test_pred_poly2))\n",
        "print('---')\n",
        "\n",
        "#Kao što možemo vidjeti iz tablice, model s polinomijalnom jezgrom stupnja 2 ima bolju točnost i performanse od modela s linearnom jezgrom. \n",
        "\n",
        "\n",
        "\n",
        "from sklearn.model_selection import GridSearchCV\n",
        "from sklearn.svm import SVC\n",
        "\n",
        "svm = SVC(kernel='rbf')\n",
        "params = {'C': [0.1, 1, 101, 100]}\n",
        "grid = GridSearchCV(svm, params, cv=5)\n",
        "grid.fit(X_train, y_train)\n",
        "\n",
        "print(grid.best_params_)\n",
        "#Ovaj kod će isprobati 4 različite vrijednosti za C (0.1, 1, 101, 100) te će odabrati onu koja daje najbolje rezultate na skupu za validaciju.\n",
        "\n",
        "\n",
        "\n",
        "\n",
        "\n",
        "\n",
        "\n",
        "\n",
        "# Izračun mjera na podskupu za trening\n",
        "y_train_pred = dt.predict(X_train)\n",
        "train_cac = accuracy_score(y_train, y_train_pred)\n",
        "train_prec = precision_score(y_train, y_train_pred)\n",
        "train_recall = recall_score(y_train, y_train_pred)\n",
        "train_f1 = f1_score(y_train, y_train_pred)\n",
        "\n",
        "# Train set\n",
        "y_train_pred = dt.predict(X_train)\n",
        "print('Train set:')\n",
        "print('CAC:', accuracy_score(y_train, y_train_pred))\n",
        "print('Precision:', precision_score(y_train, y_train_pred))\n",
        "print('Recall:', recall_score(y_train, y_train_pred))\n",
        "print('F1:', f1_score(y_train, y_train_pred))\n",
        "\n",
        "\n",
        "\n",
        "\n",
        "\n",
        "\n",
        "\n",
        "# Izračun mjera na podskupu za test\n",
        "y_test_pred = dt.predict(X_test)\n",
        "test_cac = accuracy_score(y_test, y_test_pred)\n",
        "test_prec = precision_score(y_test, y_test_pred)\n",
        "test_recall = recall_score(y_test, y_test_pred)\n",
        "test_f1 = f1_score(y_test, y_test_pred)\n",
        "\n",
        "y_test_pred = dt.predict(X_test)\n",
        "print('Test set:')\n",
        "print('CAC:', accuracy_score(y_test, y_test_pred))\n",
        "print('Precision:', precision_score(y_test, y_test_pred))\n",
        "print('Recall:', recall_score(y_test, y_test_pred))\n",
        "print('F1:', f1_score(y_test, y_test_pred))\n",
        "\n",
        "\n",
        "\n",
        "\n",
        "\n",
        "depths = range(1, 21)\n",
        "train_scores = []\n",
        "test_scores = []\n",
        "\n",
        "for depth in depths:\n",
        "    dt = DecisionTreeClassifier(max_depth=depth, random_state=1)\n",
        "    dt.fit(X_train, y_train)\n",
        "    train_scores.append(dt.score(X_train, y_train))\n",
        "    test_scores.append(dt.score(X_test, y_test))\n",
        "\n",
        "plt.plot(depths, train_scores, label='Train')\n",
        "plt.plot(depths, test_scores, label='Test')\n",
        "plt.xlabel('Depth')\n",
        "plt.ylabel('CAC')\n",
        "plt.legend()\n",
        "plt.show()\n"
      ],
      "metadata": {
        "id": "EvqhovGBd410"
      },
      "execution_count": null,
      "outputs": []
    }
  ]
}